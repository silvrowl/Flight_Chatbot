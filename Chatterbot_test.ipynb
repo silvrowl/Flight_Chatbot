{
 "cells": [
  {
   "cell_type": "code",
   "execution_count": 1,
   "metadata": {
    "colab": {
     "base_uri": "https://localhost:8080/",
     "height": 34
    },
    "colab_type": "code",
    "id": "5RE7qdUf_dzK",
    "outputId": "f44bdff2-3883-4df0-90cc-31f41a567eeb"
   },
   "outputs": [
    {
     "name": "stderr",
     "output_type": "stream",
     "text": [
      "/home/dan/Desktop/Project_07/chatbot_env/lib/python3.7/site-packages/fuzzywuzzy/fuzz.py:11: UserWarning: Using slow pure-python SequenceMatcher. Install python-Levenshtein to remove this warning\n",
      "  warnings.warn('Using slow pure-python SequenceMatcher. Install python-Levenshtein to remove this warning')\n",
      "[nltk_data] Downloading package averaged_perceptron_tagger to\n",
      "[nltk_data]     /home/dan/nltk_data...\n",
      "[nltk_data]   Package averaged_perceptron_tagger is already up-to-\n",
      "[nltk_data]       date!\n",
      "[nltk_data] Downloading package punkt to /home/dan/nltk_data...\n",
      "[nltk_data]   Package punkt is already up-to-date!\n"
     ]
    },
    {
     "name": "stdout",
     "output_type": "stream",
     "text": [
      "['next wednesday']\n"
     ]
    }
   ],
   "source": [
    "#%pip install chatterbot-corpus -qq\n",
    "from chatterbot import ChatBot\n",
    "from chatterbot.trainers import ListTrainer\n",
    "import NER_Attempt_02 as ner\n",
    "import pickle"
   ]
  },
  {
   "cell_type": "code",
   "execution_count": 2,
   "metadata": {
    "colab": {
     "base_uri": "https://localhost:8080/",
     "height": 192
    },
    "colab_type": "code",
    "id": "x4dS0Z-w_0Q5",
    "outputId": "76161b23-a496-4b18-ac58-33a97485ee11"
   },
   "outputs": [
    {
     "name": "stderr",
     "output_type": "stream",
     "text": [
      "[nltk_data] Downloading package stopwords to /home/dan/nltk_data...\n",
      "[nltk_data]   Package stopwords is already up-to-date!\n",
      "[nltk_data] Downloading package averaged_perceptron_tagger to\n",
      "[nltk_data]     /home/dan/nltk_data...\n",
      "[nltk_data]   Package averaged_perceptron_tagger is already up-to-\n",
      "[nltk_data]       date!\n"
     ]
    }
   ],
   "source": [
    "bot = ChatBot(\n",
    "    'TravelJohnny',\n",
    "    storage_adapter='chatterbot.storage.SQLStorageAdapter',\n",
    "    database_uri='sqlite:///database.sqlite3'\n",
    ")\n"
   ]
  },
  {
   "cell_type": "code",
   "execution_count": 3,
   "metadata": {},
   "outputs": [],
   "source": [
    "#Bring in George's conversations...\n",
    "\n",
    "\n",
    "with open('frames_list.pkl', 'rb') as f:\n",
    "    frames_list = pickle.load(f)\n"
   ]
  },
  {
   "cell_type": "code",
   "execution_count": 4,
   "metadata": {},
   "outputs": [
    {
     "name": "stdout",
     "output_type": "stream",
     "text": [
      "['Hi there', 'How can I help you?', 'Are there any flights from Toronto to San Diego', 'Yes, for which dates would you like?', 'June 3rd to next Wednesday', 'How much would like to spend?', 'Under 500', 'Great, Here are some options:', 'Good Morning', 'How can i help you?', 'I would like to see if I can travel from Seattle to Chicago tomorrow', 'When would you like to come back', 'In 5 weeks, but I am flexible on the day', 'What is your budget', 'Less than fifteen hundred dollars', 'Great, Here are some options:', 'Yo', 'How can I help you?', 'How much is it to go from San Diego to Los Angeles. I have to get there for a wedding.', 'When would you like to travel', 'March 1st to March 2nd', 'What is your budget', 'The cheapest you can find', 'Great, Here are some options:', 'Guten Tag', 'How can I help you?', 'I would like to fly to San Francisco on the 5th of December', 'What is your budget', 'Price is no object, and I would like first class if possible', 'Great, Here are some options:', 'Hello', 'How can I help you?', 'I would like to fly to Portland as soon as possible', 'Where are you located', 'Washington', 'What is your budget', 'Between $400 and $500', 'Great, Here are some options:']\n"
     ]
    }
   ],
   "source": [
    "# Bring in my conversations...\n",
    "with open('custom_list.pkl', 'rb') as f:\n",
    "    custom_list = pickle.load(f)\n",
    "\n",
    "#Massage for trainer\n",
    "#print(custom_list)\n",
    "\n",
    "custom_list_2 =[]\n",
    "\n",
    "for s in custom_list:\n",
    "    custom_list_2.append(s[0])\n",
    "    \n",
    "print(custom_list_2)"
   ]
  },
  {
   "cell_type": "code",
   "execution_count": 5,
   "metadata": {},
   "outputs": [
    {
     "name": "stdout",
     "output_type": "stream",
     "text": [
      "List Trainer: [####################] 100%\n",
      "List Trainer: [####################] 100%\n"
     ]
    }
   ],
   "source": [
    "trainer = ListTrainer(bot)\n",
    "trainer.train(frames_list)\n",
    "trainer.train(custom_list_2)"
   ]
  },
  {
   "cell_type": "code",
   "execution_count": 6,
   "metadata": {},
   "outputs": [
    {
     "name": "stdout",
     "output_type": "stream",
     "text": [
      "Hello, how can I help you?\n",
      "I'd like to go to Toronto next Tuesday\n",
      "['next tuesday']\n",
      "1 1 0\n",
      "When would you like to travel\n",
      "July 17th\n",
      "1 2 0\n",
      "What would the price be if I shortened my trip by one day?\n",
      "800 Dollars\n",
      "1 2 1\n",
      "Where do you want to travel from?\n",
      "New York\n",
      "2 2 1\n",
      "Great, here are some options:\n",
      "         city  city_score                        state  state_score code\n",
      "3511  Toronto         100           ON - International           32  YYZ\n",
      "3292  Toronto         100   ON - Downtown Rail service           30  YBZ\n",
      "3458  Toronto         100  ON - Toronto Island Airport           41  YTZ\n",
      "3231  Toronto         100  ON - Guildwood Rail service           18  XLQ\n",
      "          city  city_score              state  state_score code\n",
      "2181  New York         100  NY - All airports           32  NYC\n",
      "1472  New York         100       NY - Kennedy           30  JFK\n",
      "1698  New York         100    NY - La Guardia           26  LGA\n"
     ]
    }
   ],
   "source": [
    "print('Hello, how can I help you?')\n",
    "\n",
    "Locations_list = []\n",
    "Dates_list = []\n",
    "Money_list = []\n",
    "\n",
    "cnt = 0\n",
    "cnt_return = 0\n",
    "cnt_money = 0 \n",
    "no_bud = False\n",
    "one_way = False\n",
    "\n",
    "while True:\n",
    "    try:\n",
    "        \n",
    "        #Parse the customer input\n",
    "        cust_input = input()        \n",
    "        travel_chat_preproc = ner.word_preproc([[cust_input]])\n",
    "        travel_ner_out = ner.word_ner_all(travel_chat_preproc)   \n",
    "        \n",
    "        #See if we found any information\n",
    "        if len(travel_ner_out['Locations'])>0:\n",
    "            for a in travel_ner_out['Locations']:\n",
    "                Locations_list.append(a) \n",
    "        \n",
    "        if len(travel_ner_out['Dates'])>0:\n",
    "            for b in travel_ner_out['Dates']:\n",
    "                Dates_list.append(b) \n",
    "            \n",
    "        if len(travel_ner_out['Money'])>0:\n",
    "            for c in travel_ner_out['Money']:\n",
    "                Money_list.append(c) \n",
    "        \n",
    "        print(len(Locations_list),len(Dates_list),len(Money_list))\n",
    "                \n",
    "        \n",
    "        if cnt<2:\n",
    "            bot_input = bot.get_response(cust_input)\n",
    "            print(bot_input)\n",
    "        \n",
    "        else:\n",
    "            \n",
    "            if len(Locations_list)<2:\n",
    "                print('Where do you want to travel from?')\n",
    "                \n",
    "            elif len(Dates_list)<2 and one_way == False:\n",
    "                \n",
    "                if cnt_return == 0:\n",
    "                    print('When do you want to return?')\n",
    "                else:\n",
    "                    one_way = True\n",
    "                    continue\n",
    "                    \n",
    "                cnt_return = cnt_return + 1\n",
    "                \n",
    "            elif len(Money_list)<1 and no_bud == False:\n",
    "                \n",
    "                \n",
    "                if cnt_money == 0:\n",
    "                    print('How much do you want to spend?')\n",
    "                else:\n",
    "                    no_bud = True\n",
    "                    continue\n",
    "                    \n",
    "                cnt_money = cnt_money + 1\n",
    "                \n",
    "        \n",
    "            else:\n",
    "                print('Great, here are some options:')\n",
    "                #Use information above to search sky scanner\n",
    "                \n",
    "                #Convert Dates, Location (airport codes) for usage in Flight lookup\n",
    "                \n",
    "                #Location check/narrower\n",
    "        \n",
    "                #Find match score for locations\n",
    "                \n",
    "                \n",
    "                for v in Locations_list:\n",
    "                    print(ner.match_score_list(v))\n",
    "                \n",
    "                break\n",
    "        \n",
    "        cnt = cnt + 1\n",
    " \n",
    "    except(KeyboardInterrupt, EOFError, SystemExit):\n",
    "        break"
   ]
  },
  {
   "cell_type": "code",
   "execution_count": 7,
   "metadata": {},
   "outputs": [],
   "source": [
    "# If no second loaction, ask for start location\n",
    "\n",
    "# If no second date, assume one way\n",
    "\n",
    "# If no money, assume cheapest\n",
    "\n",
    "# If no dates, ask for dates, if not look at today/oneway\n",
    "\n",
    "# If more than 3 locations -> Multicity\n",
    "\n",
    "# Chatterbot\n",
    "# https://chatterbot.readthedocs.io/en/stable/training.html\n",
    "\n",
    "#Sky Scanner\n",
    "#https://rapidapi.com/skyscanner/api/skyscanner-flight-search/endpoints\n",
    "\n",
    "\n",
    "# Integration with Slack"
   ]
  },
  {
   "cell_type": "code",
   "execution_count": 8,
   "metadata": {
    "colab": {
     "base_uri": "https://localhost:8080/",
     "height": 182
    },
    "colab_type": "code",
    "id": "dcEkAtg0Byqn",
    "outputId": "649f0ed6-8059-4244-88f1-1dbf3ee2846b"
   },
   "outputs": [],
   "source": [
    "#bot.export_for_training('my_export.json')"
   ]
  },
  {
   "cell_type": "code",
   "execution_count": 9,
   "metadata": {
    "colab": {},
    "colab_type": "code",
    "id": "eYTQDuI1GXnU"
   },
   "outputs": [
    {
     "name": "stdout",
     "output_type": "stream",
     "text": [
      "{\"Routes\":[],\"Quotes\":[{\"QuoteId\":1,\"MinPrice\":78.0,\"Direct\":true,\"OutboundLeg\":{\"CarrierIds\":[1907],\"OriginId\":96474,\"DestinationId\":60987,\"DepartureDate\":\"2020-06-01T00:00:00\"},\"QuoteDateTime\":\"2020-04-04T11:58:00\"},{\"QuoteId\":2,\"MinPrice\":78.0,\"Direct\":true,\"OutboundLeg\":{\"CarrierIds\":[838],\"OriginId\":96474,\"DestinationId\":60987,\"DepartureDate\":\"2020-06-02T00:00:00\"},\"QuoteDateTime\":\"2020-04-07T11:33:00\"},{\"QuoteId\":3,\"MinPrice\":80.0,\"Direct\":true,\"OutboundLeg\":{\"CarrierIds\":[954],\"OriginId\":96474,\"DestinationId\":60987,\"DepartureDate\":\"2020-06-03T00:00:00\"},\"QuoteDateTime\":\"2020-04-07T11:44:00\"},{\"QuoteId\":4,\"MinPrice\":80.0,\"Direct\":true,\"OutboundLeg\":{\"CarrierIds\":[954],\"OriginId\":96474,\"DestinationId\":60987,\"DepartureDate\":\"2020-06-04T00:00:00\"},\"QuoteDateTime\":\"2020-04-07T11:51:00\"},{\"QuoteId\":5,\"MinPrice\":80.0,\"Direct\":true,\"OutboundLeg\":{\"CarrierIds\":[1361],\"OriginId\":96474,\"DestinationId\":60987,\"DepartureDate\":\"2020-06-05T00:00:00\"},\"QuoteDateTime\":\"2020-04-07T11:57:00\"},{\"QuoteId\":6,\"MinPrice\":78.0,\"Direct\":true,\"OutboundLeg\":{\"CarrierIds\":[1907],\"OriginId\":96474,\"DestinationId\":60987,\"DepartureDate\":\"2020-06-06T00:00:00\"},\"QuoteDateTime\":\"2020-04-06T02:09:00\"},{\"QuoteId\":7,\"MinPrice\":78.0,\"Direct\":true,\"OutboundLeg\":{\"CarrierIds\":[838],\"OriginId\":96474,\"DestinationId\":60987,\"DepartureDate\":\"2020-06-07T00:00:00\"},\"QuoteDateTime\":\"2020-04-07T17:25:00\"},{\"QuoteId\":8,\"MinPrice\":78.0,\"Direct\":true,\"OutboundLeg\":{\"CarrierIds\":[1907],\"OriginId\":96474,\"DestinationId\":60987,\"DepartureDate\":\"2020-06-08T00:00:00\"},\"QuoteDateTime\":\"2020-04-04T14:57:00\"},{\"QuoteId\":9,\"MinPrice\":78.0,\"Direct\":true,\"OutboundLeg\":{\"CarrierIds\":[1907],\"OriginId\":96474,\"DestinationId\":60987,\"DepartureDate\":\"2020-06-09T00:00:00\"},\"QuoteDateTime\":\"2020-04-06T10:32:00\"},{\"QuoteId\":10,\"MinPrice\":77.0,\"Direct\":false,\"OutboundLeg\":{\"CarrierIds\":[1907],\"OriginId\":96474,\"DestinationId\":60987,\"DepartureDate\":\"2020-06-10T00:00:00\"},\"QuoteDateTime\":\"2020-04-06T01:57:00\"},{\"QuoteId\":11,\"MinPrice\":78.0,\"Direct\":true,\"OutboundLeg\":{\"CarrierIds\":[1907],\"OriginId\":96474,\"DestinationId\":60987,\"DepartureDate\":\"2020-06-10T00:00:00\"},\"QuoteDateTime\":\"2020-04-06T01:57:00\"},{\"QuoteId\":12,\"MinPrice\":84.0,\"Direct\":true,\"OutboundLeg\":{\"CarrierIds\":[1361],\"OriginId\":96474,\"DestinationId\":60987,\"DepartureDate\":\"2020-06-11T00:00:00\"},\"QuoteDateTime\":\"2020-04-07T12:31:00\"},{\"QuoteId\":13,\"MinPrice\":77.0,\"Direct\":false,\"OutboundLeg\":{\"CarrierIds\":[1907],\"OriginId\":96474,\"DestinationId\":60987,\"DepartureDate\":\"2020-06-12T00:00:00\"},\"QuoteDateTime\":\"2020-04-06T04:28:00\"},{\"QuoteId\":14,\"MinPrice\":78.0,\"Direct\":true,\"OutboundLeg\":{\"CarrierIds\":[1907],\"OriginId\":96474,\"DestinationId\":60987,\"DepartureDate\":\"2020-06-12T00:00:00\"},\"QuoteDateTime\":\"2020-04-06T04:28:00\"},{\"QuoteId\":15,\"MinPrice\":78.0,\"Direct\":true,\"OutboundLeg\":{\"CarrierIds\":[1907],\"OriginId\":96474,\"DestinationId\":60987,\"DepartureDate\":\"2020-06-13T00:00:00\"},\"QuoteDateTime\":\"2020-04-04T05:01:00\"},{\"QuoteId\":16,\"MinPrice\":80.0,\"Direct\":true,\"OutboundLeg\":{\"CarrierIds\":[1329],\"OriginId\":96474,\"DestinationId\":60987,\"DepartureDate\":\"2020-06-14T00:00:00\"},\"QuoteDateTime\":\"2020-04-07T12:47:00\"},{\"QuoteId\":17,\"MinPrice\":78.0,\"Direct\":true,\"OutboundLeg\":{\"CarrierIds\":[1907],\"OriginId\":96474,\"DestinationId\":60987,\"DepartureDate\":\"2020-06-15T00:00:00\"},\"QuoteDateTime\":\"2020-04-05T02:21:00\"},{\"QuoteId\":18,\"MinPrice\":78.0,\"Direct\":true,\"OutboundLeg\":{\"CarrierIds\":[1907],\"OriginId\":96474,\"DestinationId\":60987,\"DepartureDate\":\"2020-06-16T00:00:00\"},\"QuoteDateTime\":\"2020-04-04T04:32:00\"},{\"QuoteId\":19,\"MinPrice\":84.0,\"Direct\":true,\"OutboundLeg\":{\"CarrierIds\":[1361],\"OriginId\":96474,\"DestinationId\":60987,\"DepartureDate\":\"2020-06-17T00:00:00\"},\"QuoteDateTime\":\"2020-04-07T13:05:00\"},{\"QuoteId\":20,\"MinPrice\":84.0,\"Direct\":true,\"OutboundLeg\":{\"CarrierIds\":[1361],\"OriginId\":96474,\"DestinationId\":60987,\"DepartureDate\":\"2020-06-18T00:00:00\"},\"QuoteDateTime\":\"2020-04-07T13:11:00\"},{\"QuoteId\":21,\"MinPrice\":78.0,\"Direct\":true,\"OutboundLeg\":{\"CarrierIds\":[1907],\"OriginId\":96474,\"DestinationId\":60987,\"DepartureDate\":\"2020-06-19T00:00:00\"},\"QuoteDateTime\":\"2020-04-05T18:38:00\"},{\"QuoteId\":22,\"MinPrice\":79.0,\"Direct\":true,\"OutboundLeg\":{\"CarrierIds\":[1317],\"OriginId\":96474,\"DestinationId\":60987,\"DepartureDate\":\"2020-06-20T00:00:00\"},\"QuoteDateTime\":\"2020-04-07T02:18:00\"},{\"QuoteId\":23,\"MinPrice\":80.0,\"Direct\":true,\"OutboundLeg\":{\"CarrierIds\":[1329],\"OriginId\":96474,\"DestinationId\":60987,\"DepartureDate\":\"2020-06-21T00:00:00\"},\"QuoteDateTime\":\"2020-04-07T13:29:00\"},{\"QuoteId\":24,\"MinPrice\":78.0,\"Direct\":false,\"OutboundLeg\":{\"CarrierIds\":[1907],\"OriginId\":96474,\"DestinationId\":60987,\"DepartureDate\":\"2020-06-22T00:00:00\"},\"QuoteDateTime\":\"2020-04-05T05:18:00\"},{\"QuoteId\":25,\"MinPrice\":80.0,\"Direct\":true,\"OutboundLeg\":{\"CarrierIds\":[1329],\"OriginId\":96474,\"DestinationId\":60987,\"DepartureDate\":\"2020-06-22T00:00:00\"},\"QuoteDateTime\":\"2020-04-07T13:35:00\"},{\"QuoteId\":26,\"MinPrice\":80.0,\"Direct\":true,\"OutboundLeg\":{\"CarrierIds\":[1329],\"OriginId\":96474,\"DestinationId\":60987,\"DepartureDate\":\"2020-06-23T00:00:00\"},\"QuoteDateTime\":\"2020-04-07T13:40:00\"},{\"QuoteId\":27,\"MinPrice\":77.0,\"Direct\":false,\"OutboundLeg\":{\"CarrierIds\":[1907],\"OriginId\":96474,\"DestinationId\":60987,\"DepartureDate\":\"2020-06-24T00:00:00\"},\"QuoteDateTime\":\"2020-04-05T19:17:00\"},{\"QuoteId\":28,\"MinPrice\":92.0,\"Direct\":true,\"OutboundLeg\":{\"CarrierIds\":[1907],\"OriginId\":96474,\"DestinationId\":60987,\"DepartureDate\":\"2020-06-24T00:00:00\"},\"QuoteDateTime\":\"2020-04-05T19:17:00\"},{\"QuoteId\":29,\"MinPrice\":97.0,\"Direct\":true,\"OutboundLeg\":{\"CarrierIds\":[1361],\"OriginId\":96474,\"DestinationId\":60987,\"DepartureDate\":\"2020-06-25T00:00:00\"},\"QuoteDateTime\":\"2020-04-07T13:52:00\"},{\"QuoteId\":30,\"MinPrice\":77.0,\"Direct\":false,\"OutboundLeg\":{\"CarrierIds\":[1907],\"OriginId\":96474,\"DestinationId\":60987,\"DepartureDate\":\"2020-06-26T00:00:00\"},\"QuoteDateTime\":\"2020-04-05T19:26:00\"},{\"QuoteId\":31,\"MinPrice\":96.0,\"Direct\":true,\"OutboundLeg\":{\"CarrierIds\":[838],\"OriginId\":96474,\"DestinationId\":60987,\"DepartureDate\":\"2020-06-26T00:00:00\"},\"QuoteDateTime\":\"2020-04-05T19:26:00\"},{\"QuoteId\":32,\"MinPrice\":78.0,\"Direct\":true,\"OutboundLeg\":{\"CarrierIds\":[1907],\"OriginId\":96474,\"DestinationId\":60987,\"DepartureDate\":\"2020-06-27T00:00:00\"},\"QuoteDateTime\":\"2020-04-05T07:09:00\"},{\"QuoteId\":33,\"MinPrice\":77.0,\"Direct\":false,\"OutboundLeg\":{\"CarrierIds\":[1907],\"OriginId\":96474,\"DestinationId\":60987,\"DepartureDate\":\"2020-06-27T00:00:00\"},\"QuoteDateTime\":\"2020-04-04T19:43:00\"},{\"QuoteId\":34,\"MinPrice\":78.0,\"Direct\":true,\"OutboundLeg\":{\"CarrierIds\":[1907],\"OriginId\":96474,\"DestinationId\":60987,\"DepartureDate\":\"2020-06-28T00:00:00\"},\"QuoteDateTime\":\"2020-04-06T02:06:00\"},{\"QuoteId\":35,\"MinPrice\":77.0,\"Direct\":false,\"OutboundLeg\":{\"CarrierIds\":[1907],\"OriginId\":96474,\"DestinationId\":60987,\"DepartureDate\":\"2020-06-28T00:00:00\"},\"QuoteDateTime\":\"2020-04-06T13:39:00\"},{\"QuoteId\":36,\"MinPrice\":80.0,\"Direct\":true,\"OutboundLeg\":{\"CarrierIds\":[1361],\"OriginId\":96474,\"DestinationId\":60987,\"DepartureDate\":\"2020-06-29T00:00:00\"},\"QuoteDateTime\":\"2020-04-07T14:18:00\"},{\"QuoteId\":37,\"MinPrice\":78.0,\"Direct\":true,\"OutboundLeg\":{\"CarrierIds\":[1907],\"OriginId\":96474,\"DestinationId\":60987,\"DepartureDate\":\"2020-06-30T00:00:00\"},\"QuoteDateTime\":\"2020-04-05T17:05:00\"},{\"QuoteId\":38,\"MinPrice\":77.0,\"Direct\":false,\"OutboundLeg\":{\"CarrierIds\":[1907],\"OriginId\":96474,\"DestinationId\":60987,\"DepartureDate\":\"2020-06-30T00:00:00\"},\"QuoteDateTime\":\"2020-04-05T17:05:00\"}],\"Places\":[{\"PlaceId\":60987,\"IataCode\":\"JFK\",\"Name\":\"New York John F. Kennedy\",\"Type\":\"Station\",\"SkyscannerCode\":\"JFK\",\"CityName\":\"New York\",\"CityId\":\"NYCA\",\"CountryName\":\"United States\"},{\"PlaceId\":96474,\"IataCode\":\"YYZ\",\"Name\":\"Toronto Pearson International\",\"Type\":\"Station\",\"SkyscannerCode\":\"YYZ\",\"CityName\":\"Toronto\",\"CityId\":\"YTOA\",\"CountryName\":\"Canada\"}],\"Carriers\":[{\"CarrierId\":838,\"Name\":\"Air France\"},{\"CarrierId\":954,\"Name\":\"China Southern\"},{\"CarrierId\":1317,\"Name\":\"Korean Air\"},{\"CarrierId\":1329,\"Name\":\"Kenya Airways\"},{\"CarrierId\":1361,\"Name\":\"LATAM Airlines Group\"},{\"CarrierId\":1907,\"Name\":\"WestJet\"}],\"Currencies\":[{\"Code\":\"USD\",\"Symbol\":\"$\",\"ThousandsSeparator\":\",\",\"DecimalSeparator\":\".\",\"SymbolOnLeft\":true,\"SpaceBetweenAmountAndSymbol\":false,\"RoundingCoefficient\":0,\"DecimalDigits\":2}]}\n"
     ]
    }
   ],
   "source": [
    "import requests\n",
    "\n",
    "L1 = 'YYZ'\n",
    "L2 = 'JFK'\n",
    "D1 = '2020-06-01'\n",
    "D2 = '2020-07-01'\n",
    "\n",
    "url = \"https://skyscanner-skyscanner-flight-search-v1.p.rapidapi.com/apiservices/browseroutes/v1.0/US/USD/en-US/\" + L1 + \"-sky/\" +  L2 + \"-sky/\" + D1\n",
    "\n",
    "querystring = {\"inboundpartialdate\":D2}\n",
    "\n",
    "headers = {\n",
    "    'x-rapidapi-host': \"skyscanner-skyscanner-flight-search-v1.p.rapidapi.com\",\n",
    "    'x-rapidapi-key': \"e9ea65cb6bmsh7a9294203a09dfep163c42jsn05f9e4a2cceb\"\n",
    "    }\n",
    "\n",
    "response = requests.request(\"GET\", url, headers=headers, params=querystring)\n",
    "\n",
    "print(response.text)"
   ]
  },
  {
   "cell_type": "code",
   "execution_count": null,
   "metadata": {},
   "outputs": [],
   "source": []
  }
 ],
 "metadata": {
  "colab": {
   "collapsed_sections": [],
   "name": "Chatterbot_test.ipynb",
   "provenance": []
  },
  "kernelspec": {
   "display_name": "Python 3",
   "language": "python",
   "name": "python3"
  },
  "language_info": {
   "codemirror_mode": {
    "name": "ipython",
    "version": 3
   },
   "file_extension": ".py",
   "mimetype": "text/x-python",
   "name": "python",
   "nbconvert_exporter": "python",
   "pygments_lexer": "ipython3",
   "version": "3.7.6"
  }
 },
 "nbformat": 4,
 "nbformat_minor": 1
}
