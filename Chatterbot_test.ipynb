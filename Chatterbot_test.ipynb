{
 "cells": [
  {
   "cell_type": "code",
   "execution_count": 1,
   "metadata": {
    "colab": {
     "base_uri": "https://localhost:8080/",
     "height": 34
    },
    "colab_type": "code",
    "id": "5RE7qdUf_dzK",
    "outputId": "f44bdff2-3883-4df0-90cc-31f41a567eeb"
   },
   "outputs": [
    {
     "name": "stderr",
     "output_type": "stream",
     "text": [
      "[nltk_data] Downloading package averaged_perceptron_tagger to\n",
      "[nltk_data]     /home/dan/nltk_data...\n",
      "[nltk_data]   Package averaged_perceptron_tagger is already up-to-\n",
      "[nltk_data]       date!\n",
      "[nltk_data] Downloading package punkt to /home/dan/nltk_data...\n",
      "[nltk_data]   Package punkt is already up-to-date!\n"
     ]
    }
   ],
   "source": [
    "#%pip install chatterbot-corpus -qq\n",
    "from chatterbot import ChatBot\n",
    "from chatterbot.trainers import ListTrainer\n",
    "import NER_Attempt_02 as ner\n"
   ]
  },
  {
   "cell_type": "code",
   "execution_count": 2,
   "metadata": {
    "colab": {
     "base_uri": "https://localhost:8080/",
     "height": 192
    },
    "colab_type": "code",
    "id": "x4dS0Z-w_0Q5",
    "outputId": "76161b23-a496-4b18-ac58-33a97485ee11"
   },
   "outputs": [
    {
     "name": "stderr",
     "output_type": "stream",
     "text": [
      "[nltk_data] Downloading package stopwords to /home/dan/nltk_data...\n",
      "[nltk_data]   Package stopwords is already up-to-date!\n",
      "[nltk_data] Downloading package averaged_perceptron_tagger to\n",
      "[nltk_data]     /home/dan/nltk_data...\n",
      "[nltk_data]   Package averaged_perceptron_tagger is already up-to-\n",
      "[nltk_data]       date!\n"
     ]
    },
    {
     "name": "stdout",
     "output_type": "stream",
     "text": [
      "{'Locations': ['hi', 'houston', 'san diego'], 'Dates': [datetime.datetime(2020, 6, 3, 0, 0), datetime.datetime(2020, 6, 18, 0, 0)], 'Money': ['500']}\n"
     ]
    }
   ],
   "source": [
    "bot = ChatBot(\n",
    "    'TravelJohnny',\n",
    "    #storage_adapter='chatterbot.storage.SQLStorageAdapter',\n",
    "    #database_uri='sqlite:///database.sqlite3'\n",
    ")\n",
    "\n",
    "conversation = [\n",
    "  'Hello',\n",
    "  'Hi there, where would you like to travel?',\n",
    "  'I want to go to Italy',\n",
    "  'For which dates would you like to go?',\n",
    "  'July 19th to August 12th',\n",
    "  'And what is your budget for this trip?',\n",
    "  '2000 dollars',\n",
    "  'Great, Here are some options:',\n",
    "]\n",
    "\n",
    "Sample_Text_1 = [['Hi there'],\n",
    "               ['How can I help you?'],\n",
    "               ['Are there any flights from Houston to San Diego'],\n",
    "               ['Yes, for which dates would you like?'],\n",
    "               ['June 3rd to June 18th'],\n",
    "               ['How much would like to spend?'],\n",
    "               ['Under 500'],\n",
    "               ['Great, Here are some options:']]\n",
    "\n",
    "conversation_list = []\n",
    "\n",
    "for t in conversation:\n",
    "    conversation_list.append([t])\n",
    "\n",
    "travel_chat_preproc = ner.word_preproc(Sample_Text_1)\n",
    "travel_ner_out = ner.word_ner_all(travel_chat_preproc)\n",
    "\n",
    "print(travel_ner_out)\n",
    "\n"
   ]
  },
  {
   "cell_type": "code",
   "execution_count": 56,
   "metadata": {},
   "outputs": [],
   "source": [
    "#Bring in George's conversations...\n",
    "\n",
    "\n",
    "\n"
   ]
  },
  {
   "cell_type": "code",
   "execution_count": 62,
   "metadata": {},
   "outputs": [
    {
     "name": "stdout",
     "output_type": "stream",
     "text": [
      "List Trainer: [####################] 100%\n",
      "Hello, how can I help you?\n",
      "I'd like to go to Las Vegas\n",
      "1 0 0\n",
      "July 19th to August 12thAnd what is your budget for this trip?\n",
      "900 Dollars\n",
      "1 0 1\n",
      "Great, Here are some options:\n",
      "Would you like to know which dates?\n",
      "1 0 1\n",
      "I want to go to ItalyFor which dates would you like to go?\n",
      "July 20th\n",
      "1 1 1\n",
      "Where do you want to travel from?\n",
      "Seattle\n",
      "2 1 1\n",
      "When do you want to return?\n",
      "In 3 weeks\n",
      "2 2 1\n",
      "Great, here are some options:\n"
     ]
    }
   ],
   "source": [
    "trainer = ListTrainer(bot)\n",
    "trainer.train(conversation)\n",
    "\n",
    "print('Hello, how can I help you?')\n",
    "\n",
    "Locations_list = []\n",
    "Dates_list = []\n",
    "Money_list = []\n",
    "\n",
    "cnt = 0\n",
    "\n",
    "while True:\n",
    "    try:\n",
    "        \n",
    "        #Parse the customer input\n",
    "        cust_input = input()        \n",
    "        travel_chat_preproc = ner.word_preproc([[cust_input]])\n",
    "        travel_ner_out = ner.word_ner_all(travel_chat_preproc)   \n",
    "        \n",
    "        #See if we found any information\n",
    "        if len(travel_ner_out['Locations'])>0:\n",
    "            for a in travel_ner_out['Locations']:\n",
    "                Locations_list.append(a) \n",
    "        \n",
    "        if len(travel_ner_out['Dates'])>0:\n",
    "            for b in travel_ner_out['Dates']:\n",
    "                Dates_list.append(b) \n",
    "            \n",
    "        if len(travel_ner_out['Money'])>0:\n",
    "            for c in travel_ner_out['Money']:\n",
    "                Money_list.append(c) \n",
    "        \n",
    "        print(len(Locations_list),len(Dates_list),len(Money_list))\n",
    "        \n",
    "        if cnt<3:\n",
    "            bot_input = bot.get_response(cust_input)\n",
    "            print(bot_input)\n",
    "        \n",
    "        else:\n",
    "            \n",
    "            if len(Locations_list)<2:\n",
    "                print('Where do you want to travel from?')\n",
    "                \n",
    "            elif len(Dates_list)<2:\n",
    "                print('When do you want to return?')\n",
    "                \n",
    "            elif len(Money_list)<1:\n",
    "                print('How much do you want to spend?')\n",
    "        \n",
    "            else:\n",
    "                print('Great, here are some options:')\n",
    "                #Use information above to search sky scanner\n",
    "                break\n",
    "        \n",
    "        cnt = cnt + 1\n",
    " \n",
    "    except(KeyboardInterrupt, EOFError, SystemExit):\n",
    "        break"
   ]
  },
  {
   "cell_type": "code",
   "execution_count": 57,
   "metadata": {},
   "outputs": [],
   "source": [
    "# If no second loaction, ask for start location\n",
    "\n",
    "# If no second date, assume one way\n",
    "\n",
    "# If no money, assume cheapest\n",
    "\n",
    "# If no dates, ask for dates, if not look at today/oneway\n",
    "\n",
    "# If more than 3 locations -> Multicity\n",
    "\n",
    "# Chatterbot\n",
    "# https://chatterbot.readthedocs.io/en/stable/training.html\n",
    "\n",
    "\n",
    "#Sky Scanner\n",
    "\n",
    "\n",
    "\n",
    "# Integration with Slack"
   ]
  },
  {
   "cell_type": "code",
   "execution_count": 5,
   "metadata": {
    "colab": {
     "base_uri": "https://localhost:8080/",
     "height": 182
    },
    "colab_type": "code",
    "id": "dcEkAtg0Byqn",
    "outputId": "649f0ed6-8059-4244-88f1-1dbf3ee2846b"
   },
   "outputs": [
    {
     "ename": "AttributeError",
     "evalue": "'ChatBot' object has no attribute 'export_for_training'",
     "output_type": "error",
     "traceback": [
      "\u001b[0;31m---------------------------------------------------------------------------\u001b[0m",
      "\u001b[0;31mAttributeError\u001b[0m                            Traceback (most recent call last)",
      "\u001b[0;32m<ipython-input-5-68df5e0a3376>\u001b[0m in \u001b[0;36m<module>\u001b[0;34m\u001b[0m\n\u001b[0;32m----> 1\u001b[0;31m \u001b[0mbot\u001b[0m\u001b[0;34m.\u001b[0m\u001b[0mexport_for_training\u001b[0m\u001b[0;34m(\u001b[0m\u001b[0;34m'my_export.json'\u001b[0m\u001b[0;34m)\u001b[0m\u001b[0;34m\u001b[0m\u001b[0;34m\u001b[0m\u001b[0m\n\u001b[0m",
      "\u001b[0;31mAttributeError\u001b[0m: 'ChatBot' object has no attribute 'export_for_training'"
     ]
    }
   ],
   "source": [
    "bot.export_for_training('my_export.json')"
   ]
  },
  {
   "cell_type": "code",
   "execution_count": null,
   "metadata": {
    "colab": {},
    "colab_type": "code",
    "id": "eYTQDuI1GXnU"
   },
   "outputs": [],
   "source": []
  }
 ],
 "metadata": {
  "colab": {
   "collapsed_sections": [],
   "name": "Chatterbot_test.ipynb",
   "provenance": []
  },
  "kernelspec": {
   "display_name": "Python 3",
   "language": "python",
   "name": "python3"
  },
  "language_info": {
   "codemirror_mode": {
    "name": "ipython",
    "version": 3
   },
   "file_extension": ".py",
   "mimetype": "text/x-python",
   "name": "python",
   "nbconvert_exporter": "python",
   "pygments_lexer": "ipython3",
   "version": "3.7.6"
  }
 },
 "nbformat": 4,
 "nbformat_minor": 1
}
