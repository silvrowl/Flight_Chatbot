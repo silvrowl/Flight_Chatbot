{
 "cells": [
  {
   "cell_type": "code",
   "execution_count": 1,
   "metadata": {
    "colab": {
     "base_uri": "https://localhost:8080/",
     "height": 34
    },
    "colab_type": "code",
    "id": "5RE7qdUf_dzK",
    "outputId": "f44bdff2-3883-4df0-90cc-31f41a567eeb"
   },
   "outputs": [
    {
     "name": "stderr",
     "output_type": "stream",
     "text": [
      "/home/dan/Desktop/Project_07/chatbot_env/lib/python3.7/site-packages/fuzzywuzzy/fuzz.py:11: UserWarning: Using slow pure-python SequenceMatcher. Install python-Levenshtein to remove this warning\n",
      "  warnings.warn('Using slow pure-python SequenceMatcher. Install python-Levenshtein to remove this warning')\n",
      "[nltk_data] Downloading package averaged_perceptron_tagger to\n",
      "[nltk_data]     /home/dan/nltk_data...\n",
      "[nltk_data]   Package averaged_perceptron_tagger is already up-to-\n",
      "[nltk_data]       date!\n",
      "[nltk_data] Downloading package punkt to /home/dan/nltk_data...\n",
      "[nltk_data]   Package punkt is already up-to-date!\n"
     ]
    },
    {
     "name": "stdout",
     "output_type": "stream",
     "text": [
      "{\"message\":\"You have exceeded the DAILY quota for query sessions on your current plan, BASIC. Upgrade your plan at https:\\/\\/rapidapi.com\\/skyscanner\\/api\\/skyscanner-flight-search\"}\n"
     ]
    }
   ],
   "source": [
    "#%pip install chatterbot-corpus -qq\n",
    "from chatterbot import ChatBot\n",
    "from chatterbot.trainers import ListTrainer\n",
    "import NER_Attempt_02 as ner\n",
    "import pickle\n",
    "import pandas as pd\n",
    "import Response_Parsing as rp\n"
   ]
  },
  {
   "cell_type": "code",
   "execution_count": 2,
   "metadata": {
    "colab": {
     "base_uri": "https://localhost:8080/",
     "height": 192
    },
    "colab_type": "code",
    "id": "x4dS0Z-w_0Q5",
    "outputId": "76161b23-a496-4b18-ac58-33a97485ee11"
   },
   "outputs": [
    {
     "name": "stderr",
     "output_type": "stream",
     "text": [
      "[nltk_data] Downloading package stopwords to /home/dan/nltk_data...\n",
      "[nltk_data]   Package stopwords is already up-to-date!\n",
      "[nltk_data] Downloading package averaged_perceptron_tagger to\n",
      "[nltk_data]     /home/dan/nltk_data...\n",
      "[nltk_data]   Package averaged_perceptron_tagger is already up-to-\n",
      "[nltk_data]       date!\n"
     ]
    }
   ],
   "source": [
    "bot = ChatBot(\n",
    "    'TravelJohnny',\n",
    "    storage_adapter='chatterbot.storage.SQLStorageAdapter',\n",
    "    database_uri='sqlite:///database.sqlite3'\n",
    ")\n"
   ]
  },
  {
   "cell_type": "code",
   "execution_count": 3,
   "metadata": {},
   "outputs": [],
   "source": [
    "#Bring in George's conversations...\n",
    "\n",
    "\n",
    "with open('frames_list.pkl', 'rb') as f:\n",
    "    frames_list = pickle.load(f)\n"
   ]
  },
  {
   "cell_type": "code",
   "execution_count": 4,
   "metadata": {},
   "outputs": [
    {
     "name": "stdout",
     "output_type": "stream",
     "text": [
      "['Hi there', 'How can I help you?', 'Are there any flights from Toronto to San Diego', 'Yes, for which dates would you like?', 'June 3rd to 10th', 'How much would like to spend?', 'Under 500', 'Great, Here are some options:', 'Good Morning', 'How can i help you?', 'I would like to see if I can travel from Seattle to Chicago tomorrow', 'When would you like to come back', 'In 5 weeks, but I am flexible on the day', 'What is your budget', 'Less than fifteen hundred dollars', 'Great, Here are some options:', 'Yo', 'How can I help you?', 'How much is it to go from San Diego to Los Angeles. I have to get there for a wedding.', 'When would you like to travel', 'March 1st to March 2nd', 'What is your budget', 'The cheapest you can find', 'Great, Here are some options:', 'Guten Tag', 'How can I help you?', 'I would like to fly to San Francisco on the 5th of December', 'What is your budget', 'Price is no object, and I would like first class if possible', 'Great, Here are some options:', 'Hello', 'How can I help you?', 'I would like to fly to Portland as soon as possible', 'Where are you located', 'Washington', 'What is your budget', 'Between $400 and $500', 'Great, Here are some options:']\n"
     ]
    }
   ],
   "source": [
    "# Bring in my conversations...\n",
    "with open('custom_list.pkl', 'rb') as f:\n",
    "    custom_list = pickle.load(f)\n",
    "\n",
    "#Massage for trainer\n",
    "#print(custom_list)\n",
    "\n",
    "custom_list_2 =[]\n",
    "\n",
    "for s in custom_list:\n",
    "    custom_list_2.append(s[0])\n",
    "    \n",
    "print(custom_list_2)"
   ]
  },
  {
   "cell_type": "code",
   "execution_count": 5,
   "metadata": {
    "scrolled": true
   },
   "outputs": [
    {
     "name": "stdout",
     "output_type": "stream",
     "text": [
      "List Trainer: [####################] 100%\n"
     ]
    }
   ],
   "source": [
    "trainer = ListTrainer(bot)\n",
    "#trainer.train(frames_list)\n",
    "trainer.train(custom_list_2)"
   ]
  },
  {
   "cell_type": "code",
   "execution_count": 6,
   "metadata": {},
   "outputs": [],
   "source": [
    "true = True\n",
    "false = False\n",
    "\n",
    "test = {\n",
    "  \"Routes\": [],\n",
    "  \"Quotes\": [\n",
    "    {\n",
    "      \"QuoteId\": 1,\n",
    "      \"MinPrice\": 80,\n",
    "      \"Direct\": true,\n",
    "      \"OutboundLeg\": {\n",
    "        \"CarrierIds\": [\n",
    "          1329\n",
    "        ],\n",
    "        \"OriginId\": 96474,\n",
    "        \"DestinationId\": 60987,\n",
    "        \"DepartureDate\": \"2020-06-01T00:00:00\"\n",
    "      },\n",
    "      \"QuoteDateTime\": \"2020-04-08T09:32:00\"\n",
    "    },\n",
    "    {\n",
    "      \"QuoteId\": 2,\n",
    "      \"MinPrice\": 78,\n",
    "      \"Direct\": true,\n",
    "      \"OutboundLeg\": {\n",
    "        \"CarrierIds\": [\n",
    "          838\n",
    "        ],\n",
    "        \"OriginId\": 96474,\n",
    "        \"DestinationId\": 60987,\n",
    "        \"DepartureDate\": \"2020-06-02T00:00:00\"\n",
    "      },\n",
    "      \"QuoteDateTime\": \"2020-04-07T11:33:00\"\n",
    "    },\n",
    "    {\n",
    "      \"QuoteId\": 3,\n",
    "      \"MinPrice\": 80,\n",
    "      \"Direct\": true,\n",
    "      \"OutboundLeg\": {\n",
    "        \"CarrierIds\": [\n",
    "          954\n",
    "        ],\n",
    "        \"OriginId\": 96474,\n",
    "        \"DestinationId\": 60987,\n",
    "        \"DepartureDate\": \"2020-06-03T00:00:00\"\n",
    "      },\n",
    "      \"QuoteDateTime\": \"2020-04-08T09:42:00\"\n",
    "    },\n",
    "    {\n",
    "      \"QuoteId\": 4,\n",
    "      \"MinPrice\": 80,\n",
    "      \"Direct\": true,\n",
    "      \"OutboundLeg\": {\n",
    "        \"CarrierIds\": [\n",
    "          954\n",
    "        ],\n",
    "        \"OriginId\": 96474,\n",
    "        \"DestinationId\": 60987,\n",
    "        \"DepartureDate\": \"2020-06-04T00:00:00\"\n",
    "      },\n",
    "      \"QuoteDateTime\": \"2020-04-08T09:48:00\"\n",
    "    },\n",
    "    {\n",
    "      \"QuoteId\": 5,\n",
    "      \"MinPrice\": 80,\n",
    "      \"Direct\": true,\n",
    "      \"OutboundLeg\": {\n",
    "        \"CarrierIds\": [\n",
    "          1361\n",
    "        ],\n",
    "        \"OriginId\": 96474,\n",
    "        \"DestinationId\": 60987,\n",
    "        \"DepartureDate\": \"2020-06-05T00:00:00\"\n",
    "      },\n",
    "      \"QuoteDateTime\": \"2020-04-08T09:54:00\"\n",
    "    }\n",
    "  ],\n",
    "  \"Places\": [\n",
    "    {\n",
    "      \"PlaceId\": 60987,\n",
    "      \"IataCode\": \"JFK\",\n",
    "      \"Name\": \"New York John F. Kennedy\",\n",
    "      \"Type\": \"Station\",\n",
    "      \"SkyscannerCode\": \"JFK\",\n",
    "      \"CityName\": \"New York\",\n",
    "      \"CityId\": \"NYCA\",\n",
    "      \"CountryName\": \"United States\"\n",
    "    },\n",
    "    {\n",
    "      \"PlaceId\": 96474,\n",
    "      \"IataCode\": \"YYZ\",\n",
    "      \"Name\": \"Toronto Pearson International\",\n",
    "      \"Type\": \"Station\",\n",
    "      \"SkyscannerCode\": \"YYZ\",\n",
    "      \"CityName\": \"Toronto\",\n",
    "      \"CityId\": \"YTOA\",\n",
    "      \"CountryName\": \"Canada\"\n",
    "    }\n",
    "  ],\n",
    "  \"Carriers\": [\n",
    "    {\n",
    "      \"CarrierId\": 838,\n",
    "      \"Name\": \"Air France\"\n",
    "    },\n",
    "    {\n",
    "      \"CarrierId\": 954,\n",
    "      \"Name\": \"China Southern\"\n",
    "    },\n",
    "    {\n",
    "      \"CarrierId\": 1317,\n",
    "      \"Name\": \"Korean Air\"\n",
    "    },\n",
    "    {\n",
    "      \"CarrierId\": 1329,\n",
    "      \"Name\": \"Kenya Airways\"\n",
    "    },\n",
    "    {\n",
    "      \"CarrierId\": 1361,\n",
    "      \"Name\": \"LATAM Airlines Group\"\n",
    "    },\n",
    "    {\n",
    "      \"CarrierId\": 1907,\n",
    "      \"Name\": \"WestJet\"\n",
    "    }\n",
    "  ],\n",
    "  \"Currencies\": [\n",
    "    {\n",
    "      \"Code\": \"USD\",\n",
    "      \"Symbol\": \"$\",\n",
    "      \"ThousandsSeparator\": \",\",\n",
    "      \"DecimalSeparator\": \".\",\n",
    "      \"SymbolOnLeft\": true,\n",
    "      \"SpaceBetweenAmountAndSymbol\": false,\n",
    "      \"RoundingCoefficient\": 0,\n",
    "      \"DecimalDigits\": 2\n",
    "    }\n",
    "  ]\n",
    "}"
   ]
  },
  {
   "cell_type": "code",
   "execution_count": 7,
   "metadata": {},
   "outputs": [
    {
     "name": "stdout",
     "output_type": "stream",
     "text": [
      "Hello, how can I help you?\n",
      "I'd like to go from Seattle to Detroit\n",
      "2 0 0\n",
      "When would you like to come back\n",
      "July 15th to 24th\n",
      "2 2 0\n",
      "What is your budget\n",
      "800 Dollars\n",
      "2 2 1\n",
      "Great, here are some options:\n",
      "['seattle', 'detroit'] [datetime.datetime(2020, 7, 15, 0, 0), datetime.datetime(2020, 7, 24, 0, 0)] ['800']\n",
      "['SEA' 'LKE']\n",
      "['DTW' 'DTT']\n",
      "Here are some departing flights: \n",
      "Toronto Pearson International to New York John F. Kennedy for 80$ on Kenya Airways at 2020-06-01T00:00:00\n",
      "Toronto Pearson International to New York John F. Kennedy for 78$ on Air France at 2020-06-02T00:00:00\n",
      "Toronto Pearson International to New York John F. Kennedy for 80$ on China Southern at 2020-06-03T00:00:00\n",
      "Toronto Pearson International to New York John F. Kennedy for 80$ on China Southern at 2020-06-04T00:00:00\n",
      " and here are some returning flights: \n",
      "Toronto Pearson International to New York John F. Kennedy for 80$ on Kenya Airways at 2020-06-01T00:00:00\n",
      "Toronto Pearson International to New York John F. Kennedy for 78$ on Air France at 2020-06-02T00:00:00\n",
      "Toronto Pearson International to New York John F. Kennedy for 80$ on China Southern at 2020-06-03T00:00:00\n",
      "Toronto Pearson International to New York John F. Kennedy for 80$ on China Southern at 2020-06-04T00:00:00\n",
      "\n"
     ]
    }
   ],
   "source": [
    "print('Hello, how can I help you?')\n",
    "\n",
    "Locations_list = []\n",
    "Dates_list = []\n",
    "Money_list = []\n",
    "\n",
    "cnt = 0\n",
    "cnt_return = 0\n",
    "cnt_money = 0 \n",
    "no_bud = False\n",
    "one_way = False\n",
    "\n",
    "while True:\n",
    "    try:\n",
    "        \n",
    "        #Parse the customer input\n",
    "        cust_input = input()        \n",
    "        travel_chat_preproc = ner.word_preproc([[cust_input]])\n",
    "        travel_ner_out = ner.word_ner_all(travel_chat_preproc)   \n",
    "        \n",
    "        #See if we found any information\n",
    "        if len(travel_ner_out['Locations'])>0:\n",
    "            for a in travel_ner_out['Locations']:\n",
    "                Locations_list.append(a) \n",
    "        \n",
    "        if len(travel_ner_out['Dates'])>0:\n",
    "            for b in travel_ner_out['Dates']:\n",
    "                Dates_list.append(b) \n",
    "            \n",
    "        if len(travel_ner_out['Money'])>0:\n",
    "            for c in travel_ner_out['Money']:\n",
    "                Money_list.append(c) \n",
    "        \n",
    "        print(len(Locations_list),len(Dates_list),len(Money_list))\n",
    "                \n",
    "        \n",
    "        if cnt<2:\n",
    "            bot_input = bot.get_response(cust_input)\n",
    "            print(bot_input)\n",
    "        \n",
    "        else:\n",
    "            \n",
    "            if len(Locations_list)<2:\n",
    "                print('Where do you want to travel from?')\n",
    "                \n",
    "            elif len(Dates_list)<2 and one_way == False:\n",
    "                \n",
    "                if cnt_return == 0:\n",
    "                    print('When do you want to return?')\n",
    "                else:\n",
    "                    one_way = True\n",
    "                    continue\n",
    "                    \n",
    "                cnt_return = cnt_return + 1\n",
    "                \n",
    "            elif len(Money_list)<1 and no_bud == False:\n",
    "                \n",
    "                \n",
    "                if cnt_money == 0:\n",
    "                    print('How much do you want to spend?')\n",
    "                else:\n",
    "                    no_bud = True\n",
    "                    continue\n",
    "                    \n",
    "                cnt_money = cnt_money + 1\n",
    "                \n",
    "        \n",
    "            else:\n",
    "                print('Great, here are some options:')\n",
    "                \n",
    "                output = rp.flight_options(Locations_list, Dates_list, Money_list,test)\n",
    "                \n",
    "                print(output)\n",
    "                \n",
    "                break\n",
    "        \n",
    "        cnt = cnt + 1\n",
    " \n",
    "    except(KeyboardInterrupt, EOFError, SystemExit):\n",
    "        break"
   ]
  },
  {
   "cell_type": "code",
   "execution_count": 8,
   "metadata": {},
   "outputs": [],
   "source": [
    "# If no second loaction, ask for start location\n",
    "\n",
    "# If no second date, assume one way\n",
    "\n",
    "# If no money, assume cheapest\n",
    "\n",
    "# If no dates, ask for dates, if not look at today/oneway\n",
    "\n",
    "# If more than 3 locations -> Multicity\n",
    "\n",
    "# Chatterbot\n",
    "# https://chatterbot.readthedocs.io/en/stable/training.html\n",
    "\n",
    "#Sky Scanner\n",
    "#https://rapidapi.com/skyscanner/api/skyscanner-flight-search/endpoints\n",
    "\n",
    "\n",
    "# Integration with Slack"
   ]
  },
  {
   "cell_type": "code",
   "execution_count": 9,
   "metadata": {
    "colab": {
     "base_uri": "https://localhost:8080/",
     "height": 182
    },
    "colab_type": "code",
    "id": "dcEkAtg0Byqn",
    "outputId": "649f0ed6-8059-4244-88f1-1dbf3ee2846b"
   },
   "outputs": [],
   "source": [
    "#bot.export_for_training('my_export.json')"
   ]
  }
 ],
 "metadata": {
  "colab": {
   "collapsed_sections": [],
   "name": "Chatterbot_test.ipynb",
   "provenance": []
  },
  "kernelspec": {
   "display_name": "Python 3",
   "language": "python",
   "name": "python3"
  },
  "language_info": {
   "codemirror_mode": {
    "name": "ipython",
    "version": 3
   },
   "file_extension": ".py",
   "mimetype": "text/x-python",
   "name": "python",
   "nbconvert_exporter": "python",
   "pygments_lexer": "ipython3",
   "version": "3.7.6"
  }
 },
 "nbformat": 4,
 "nbformat_minor": 1
}
