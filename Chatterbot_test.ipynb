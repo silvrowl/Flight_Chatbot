{
 "cells": [
  {
   "cell_type": "code",
   "execution_count": 1,
   "metadata": {
    "colab": {
     "base_uri": "https://localhost:8080/",
     "height": 34
    },
    "colab_type": "code",
    "id": "5RE7qdUf_dzK",
    "outputId": "f44bdff2-3883-4df0-90cc-31f41a567eeb"
   },
   "outputs": [
    {
     "name": "stderr",
     "output_type": "stream",
     "text": [
      "[nltk_data] Downloading package averaged_perceptron_tagger to\n",
      "[nltk_data]     /home/dan/nltk_data...\n",
      "[nltk_data]   Package averaged_perceptron_tagger is already up-to-\n",
      "[nltk_data]       date!\n",
      "[nltk_data] Downloading package punkt to /home/dan/nltk_data...\n",
      "[nltk_data]   Package punkt is already up-to-date!\n"
     ]
    }
   ],
   "source": [
    "#%pip install chatterbot-corpus -qq\n",
    "from chatterbot import ChatBot\n",
    "from chatterbot.trainers import ListTrainer\n",
    "import NER_Attempt_02 as ner\n",
    "import pickle"
   ]
  },
  {
   "cell_type": "code",
   "execution_count": 2,
   "metadata": {
    "colab": {
     "base_uri": "https://localhost:8080/",
     "height": 192
    },
    "colab_type": "code",
    "id": "x4dS0Z-w_0Q5",
    "outputId": "76161b23-a496-4b18-ac58-33a97485ee11"
   },
   "outputs": [
    {
     "name": "stderr",
     "output_type": "stream",
     "text": [
      "[nltk_data] Downloading package stopwords to /home/dan/nltk_data...\n",
      "[nltk_data]   Package stopwords is already up-to-date!\n",
      "[nltk_data] Downloading package averaged_perceptron_tagger to\n",
      "[nltk_data]     /home/dan/nltk_data...\n",
      "[nltk_data]   Package averaged_perceptron_tagger is already up-to-\n",
      "[nltk_data]       date!\n"
     ]
    }
   ],
   "source": [
    "bot = ChatBot(\n",
    "    'TravelJohnny',\n",
    "    storage_adapter='chatterbot.storage.SQLStorageAdapter',\n",
    "    database_uri='sqlite:///database.sqlite3'\n",
    ")\n"
   ]
  },
  {
   "cell_type": "code",
   "execution_count": 3,
   "metadata": {},
   "outputs": [],
   "source": [
    "#Bring in George's conversations...\n",
    "\n",
    "\n",
    "with open('frames_list.pkl', 'rb') as f:\n",
    "    frames_list = pickle.load(f)\n"
   ]
  },
  {
   "cell_type": "code",
   "execution_count": 4,
   "metadata": {},
   "outputs": [
    {
     "name": "stdout",
     "output_type": "stream",
     "text": [
      "['Hi there', 'How can I help you?', 'Are there any flights from Houston to San Diego', 'Yes, for which dates would you like?', 'June 3rd to June 18th', 'How much would like to spend?', 'Under 500', 'Great, Here are some options:', 'Good Morning', 'How can i help you?', 'I would like to see if I can travel from Seattle to Chicago tomorrow', 'When would you like to come back', 'In 5 weeks, but I am flexible on the day', 'What is your budget', 'Less than fifteen hundred dollars', 'Great, Here are some options:', 'Yo', 'How can I help you?', 'How much is it to go from San Diego to Los Angeles. I have to get there for a wedding.', 'When would you like to travel', 'March 1st to March 2nd', 'What is your budget', 'The cheapest you can find', 'Great, Here are some options:', 'Guten Tag', 'How can I help you?', 'I would like to fly to San Francisco on the 5th of December', 'What is your budget', 'Price is no object, and I would like first class if possible', 'Great, Here are some options:', 'Hello', 'How can I help you?', 'I would like to fly to Portland as soon as possible', 'Where are you located', 'Washington', 'What is your budget', 'Between $400 and $500', 'Great, Here are some options:']\n"
     ]
    }
   ],
   "source": [
    "# Bring in my conversations...\n",
    "with open('custom_list.pkl', 'rb') as f:\n",
    "    custom_list = pickle.load(f)\n",
    "\n",
    "#Massage for trainer\n",
    "#print(custom_list)\n",
    "\n",
    "custom_list_2 =[]\n",
    "\n",
    "for s in custom_list:\n",
    "    custom_list_2.append(s[0])\n",
    "    \n",
    "print(custom_list_2)"
   ]
  },
  {
   "cell_type": "code",
   "execution_count": null,
   "metadata": {},
   "outputs": [],
   "source": [
    "trainer = ListTrainer(bot)\n",
    "trainer.train(frames_list)\n",
    "trainer.train(custom_list_2)"
   ]
  },
  {
   "cell_type": "code",
   "execution_count": 9,
   "metadata": {},
   "outputs": [
    {
     "name": "stdout",
     "output_type": "stream",
     "text": [
      "Hello, how can I help you?\n",
      "I'd like to go to the Bahamas\n",
      "1 0 0\n",
      "When would you like to travel\n",
      "Monday\n",
      "1 0 0\n",
      "And what destination would you like to travel to?\n",
      "Bahamas\n",
      "2 0 0\n",
      "The highest rated hotel we have in Osaka is the Aquamarine Majesty Hotel, also a 4 star hotel.\n",
      "I don't want to go there\n",
      "2 0 0\n",
      "When do you want to return?\n",
      "Saturday\n",
      "2 0 0\n"
     ]
    }
   ],
   "source": [
    "print('Hello, how can I help you?')\n",
    "\n",
    "Locations_list = []\n",
    "Dates_list = []\n",
    "Money_list = []\n",
    "\n",
    "cnt = 0\n",
    "cnt_return = 0\n",
    "cnt_money = 0 \n",
    "no_bud = False\n",
    "one_way = False\n",
    "\n",
    "while True:\n",
    "    try:\n",
    "        \n",
    "        #Parse the customer input\n",
    "        cust_input = input()        \n",
    "        travel_chat_preproc = ner.word_preproc([[cust_input]])\n",
    "        travel_ner_out = ner.word_ner_all(travel_chat_preproc)   \n",
    "        \n",
    "        #See if we found any information\n",
    "        if len(travel_ner_out['Locations'])>0:\n",
    "            for a in travel_ner_out['Locations']:\n",
    "                Locations_list.append(a) \n",
    "        \n",
    "        if len(travel_ner_out['Dates'])>0:\n",
    "            for b in travel_ner_out['Dates']:\n",
    "                Dates_list.append(b) \n",
    "            \n",
    "        if len(travel_ner_out['Money'])>0:\n",
    "            for c in travel_ner_out['Money']:\n",
    "                Money_list.append(c) \n",
    "        \n",
    "        print(len(Locations_list),len(Dates_list),len(Money_list))\n",
    "        \n",
    "        if cnt<3:\n",
    "            bot_input = bot.get_response(cust_input)\n",
    "            print(bot_input)\n",
    "        \n",
    "        else:\n",
    "            \n",
    "            if len(Locations_list)<2:\n",
    "                print('Where do you want to travel from?')\n",
    "                \n",
    "            elif len(Dates_list)<2 and one_way == False:\n",
    "                \n",
    "                if cnt_return == 0:\n",
    "                    print('When do you want to return?')\n",
    "                else:\n",
    "                    one_way = True\n",
    "                    continue\n",
    "                    \n",
    "                cnt_return = cnt_return + 1\n",
    "                \n",
    "            elif len(Money_list)<1 and no_bud == False:\n",
    "                \n",
    "                \n",
    "                if cnt_money == 0:\n",
    "                    print('How much do you want to spend?')\n",
    "                else:\n",
    "                    no_bud = True\n",
    "                    continue\n",
    "                    \n",
    "                cnt_money = cnt_money + 1\n",
    "                \n",
    "        \n",
    "            else:\n",
    "                print('Great, here are some options:')\n",
    "                #Use information above to search sky scanner\n",
    "                \n",
    "                #Convert Dates, Location (airport codes) for usage in Flight lookup\n",
    "                \n",
    "                break\n",
    "        \n",
    "        cnt = cnt + 1\n",
    " \n",
    "    except(KeyboardInterrupt, EOFError, SystemExit):\n",
    "        break"
   ]
  },
  {
   "cell_type": "code",
   "execution_count": 6,
   "metadata": {},
   "outputs": [],
   "source": [
    "# If no second loaction, ask for start location\n",
    "\n",
    "# If no second date, assume one way\n",
    "\n",
    "# If no money, assume cheapest\n",
    "\n",
    "# If no dates, ask for dates, if not look at today/oneway\n",
    "\n",
    "# If more than 3 locations -> Multicity\n",
    "\n",
    "# Chatterbot\n",
    "# https://chatterbot.readthedocs.io/en/stable/training.html\n",
    "\n",
    "\n",
    "#Sky Scanner\n",
    "#https://rapidapi.com/skyscanner/api/skyscanner-flight-search/endpoints\n",
    "\n",
    "\n",
    "# Integration with Slack"
   ]
  },
  {
   "cell_type": "code",
   "execution_count": 7,
   "metadata": {
    "colab": {
     "base_uri": "https://localhost:8080/",
     "height": 182
    },
    "colab_type": "code",
    "id": "dcEkAtg0Byqn",
    "outputId": "649f0ed6-8059-4244-88f1-1dbf3ee2846b"
   },
   "outputs": [
    {
     "ename": "AttributeError",
     "evalue": "'ChatBot' object has no attribute 'export_for_training'",
     "output_type": "error",
     "traceback": [
      "\u001b[0;31m---------------------------------------------------------------------------\u001b[0m",
      "\u001b[0;31mAttributeError\u001b[0m                            Traceback (most recent call last)",
      "\u001b[0;32m<ipython-input-7-68df5e0a3376>\u001b[0m in \u001b[0;36m<module>\u001b[0;34m\u001b[0m\n\u001b[0;32m----> 1\u001b[0;31m \u001b[0mbot\u001b[0m\u001b[0;34m.\u001b[0m\u001b[0mexport_for_training\u001b[0m\u001b[0;34m(\u001b[0m\u001b[0;34m'my_export.json'\u001b[0m\u001b[0;34m)\u001b[0m\u001b[0;34m\u001b[0m\u001b[0;34m\u001b[0m\u001b[0m\n\u001b[0m",
      "\u001b[0;31mAttributeError\u001b[0m: 'ChatBot' object has no attribute 'export_for_training'"
     ]
    }
   ],
   "source": [
    "bot.export_for_training('my_export.json')"
   ]
  },
  {
   "cell_type": "code",
   "execution_count": null,
   "metadata": {
    "colab": {},
    "colab_type": "code",
    "id": "eYTQDuI1GXnU"
   },
   "outputs": [],
   "source": [
    "import requests\n",
    "\n",
    "url = \"https://skyscanner-skyscanner-flight-search-v1.p.rapidapi.com/apiservices/browseroutes/v1.0/US/USD/en-US/SFO-sky/ORD-sky/2020-09-01\"\n",
    "\n",
    "querystring = {\"inboundpartialdate\":\"2020-12-01\"}\n",
    "\n",
    "headers = {\n",
    "    'x-rapidapi-host': \"skyscanner-skyscanner-flight-search-v1.p.rapidapi.com\",\n",
    "    'x-rapidapi-key': \"e9ea65cb6bmsh7a9294203a09dfep163c42jsn05f9e4a2cceb\"\n",
    "    }\n",
    "\n",
    "response = requests.request(\"GET\", url, headers=headers, params=querystring)\n",
    "\n",
    "print(response.text)"
   ]
  },
  {
   "cell_type": "code",
   "execution_count": null,
   "metadata": {},
   "outputs": [],
   "source": []
  }
 ],
 "metadata": {
  "colab": {
   "collapsed_sections": [],
   "name": "Chatterbot_test.ipynb",
   "provenance": []
  },
  "kernelspec": {
   "display_name": "Python 3",
   "language": "python",
   "name": "python3"
  },
  "language_info": {
   "codemirror_mode": {
    "name": "ipython",
    "version": 3
   },
   "file_extension": ".py",
   "mimetype": "text/x-python",
   "name": "python",
   "nbconvert_exporter": "python",
   "pygments_lexer": "ipython3",
   "version": "3.7.6"
  }
 },
 "nbformat": 4,
 "nbformat_minor": 1
}
