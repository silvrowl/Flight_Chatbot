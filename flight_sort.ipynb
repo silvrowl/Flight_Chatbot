{
 "cells": [
  {
   "cell_type": "code",
   "execution_count": 1,
   "metadata": {},
   "outputs": [
    {
     "name": "stderr",
     "output_type": "stream",
     "text": [
      "/home/dan/Desktop/Project_07/chatbot_env/lib/python3.7/site-packages/fuzzywuzzy/fuzz.py:11: UserWarning: Using slow pure-python SequenceMatcher. Install python-Levenshtein to remove this warning\n",
      "  warnings.warn('Using slow pure-python SequenceMatcher. Install python-Levenshtein to remove this warning')\n",
      "[nltk_data] Downloading package averaged_perceptron_tagger to\n",
      "[nltk_data]     /home/dan/nltk_data...\n",
      "[nltk_data]   Package averaged_perceptron_tagger is already up-to-\n",
      "[nltk_data]       date!\n",
      "[nltk_data] Downloading package punkt to /home/dan/nltk_data...\n",
      "[nltk_data]   Package punkt is already up-to-date!\n"
     ]
    }
   ],
   "source": [
    "import pandas as pd\n",
    "import api_request_parse as rp\n",
    "import datetime\n",
    "from datetime import datetime\n"
   ]
  },
  {
   "cell_type": "code",
   "execution_count": 2,
   "metadata": {},
   "outputs": [
    {
     "name": "stdout",
     "output_type": "stream",
     "text": [
      "['toronto', 'boston'] ['A', 'B'] [datetime.datetime(2020, 7, 14, 0, 0), datetime.datetime(2020, 7, 28, 0, 0)] ['900']\n",
      "['YYZ' 'YBZ' 'YTZ' 'XLQ']\n",
      "['BOS']\n",
      "   QuoteId  MinPrice  Direct        QuoteDateTime CarrierIds  \\\n",
      "0        1     137.0    True  2020-04-18T03:53:00    WestJet   \n",
      "1        2     102.0    True  2020-04-18T13:25:00       SATA   \n",
      "\n",
      "                        OriginId               DestinationId DepartureDate  \\\n",
      "0  Toronto Pearson International  Boston Logan International    2020-07-05   \n",
      "1  Toronto Pearson International  Boston Logan International    2020-07-26   \n",
      "\n",
      "  time_delta  \n",
      "0     9 days  \n",
      "1    12 days  \n",
      "    QuoteId  MinPrice  Direct        QuoteDateTime       CarrierIds  \\\n",
      "0         6     103.0    True  2020-04-19T15:40:00  Porter Airlines   \n",
      "1         7      89.0    True  2020-04-18T10:10:00  Porter Airlines   \n",
      "2         5     125.0    True  2020-04-20T13:36:00  Porter Airlines   \n",
      "3         8     121.0    True  2020-04-17T16:23:00  Porter Airlines   \n",
      "4         4     103.0    True  2020-04-19T23:59:00  Porter Airlines   \n",
      "5         9     103.0    True  2020-04-17T19:38:00  Porter Airlines   \n",
      "6         3     103.0    True  2020-04-18T03:53:00  Porter Airlines   \n",
      "7         2     102.0    True  2020-04-17T14:48:00  Porter Airlines   \n",
      "8        10     121.0    True  2020-04-17T20:57:00  Porter Airlines   \n",
      "9        11      98.0    True  2020-04-18T13:25:00  Porter Airlines   \n",
      "10       12      96.0    True  2020-04-18T13:25:00  Porter Airlines   \n",
      "11        1     125.0    True  2020-04-20T11:34:00  Porter Airlines   \n",
      "12       13      98.0    True  2020-04-18T13:25:00  Porter Airlines   \n",
      "13       14     134.0    True  2020-04-17T15:25:00  Porter Airlines   \n",
      "14       15     135.0    True  2020-04-20T14:06:00  Porter Airlines   \n",
      "\n",
      "          OriginId               DestinationId DepartureDate time_delta  \n",
      "0   Toronto Island  Boston Logan International    2020-07-14     0 days  \n",
      "1   Toronto Island  Boston Logan International    2020-07-16     2 days  \n",
      "2   Toronto Island  Boston Logan International    2020-07-12     2 days  \n",
      "3   Toronto Island  Boston Logan International    2020-07-20     6 days  \n",
      "4   Toronto Island  Boston Logan International    2020-07-07     7 days  \n",
      "5   Toronto Island  Boston Logan International    2020-07-22     8 days  \n",
      "6   Toronto Island  Boston Logan International    2020-07-05     9 days  \n",
      "7   Toronto Island  Boston Logan International    2020-07-04    10 days  \n",
      "8   Toronto Island  Boston Logan International    2020-07-24    10 days  \n",
      "9   Toronto Island  Boston Logan International    2020-07-25    11 days  \n",
      "10  Toronto Island  Boston Logan International    2020-07-26    12 days  \n",
      "11  Toronto Island  Boston Logan International    2020-07-02    12 days  \n",
      "12  Toronto Island  Boston Logan International    2020-07-27    13 days  \n",
      "13  Toronto Island  Boston Logan International    2020-07-30    16 days  \n",
      "14  Toronto Island  Boston Logan International    2020-07-31    17 days  \n",
      "Here are some departing flights: \n",
      "Toronto Pearson International to Boston Logan International for 137.0$ on WestJet at 2020-07-05\n",
      "YBZ to BOS flight not found \n",
      "Toronto Island to Boston Logan International for 103.0$ on Porter Airlines at 2020-07-14\n",
      "Toronto Island to Boston Logan International for 89.0$ on Porter Airlines at 2020-07-16\n",
      "Toronto Island to Boston Logan International for 125.0$ on Porter Airlines at 2020-07-12\n",
      " and here are some returning flights: \n",
      "Boston Logan International to Toronto Pearson International for 88.0$ on WestJet at 2020-07-23\n",
      "YBZ to BOS flight not found \n",
      "Boston Logan International to Toronto Island for 68.0$ on Porter Airlines at 2020-07-29\n",
      "Boston Logan International to Toronto Island for 68.0$ on Porter Airlines at 2020-07-24\n",
      "Boston Logan International to Toronto Island for 84.0$ on Porter Airlines at 2020-07-23\n",
      "\n"
     ]
    }
   ],
   "source": [
    "Locations_list = ['toronto','boston']\n",
    "Locations_type = ['A','B']\n",
    "Dates_list = [datetime(2020, 7, 14, 0, 0), datetime(2020, 7, 28, 0, 0)]\n",
    "Money_list = ['900']\n",
    "\n",
    "output = rp.flight_options(Locations_list, Locations_type, Dates_list, Money_list)\n",
    "\n",
    "print(output)"
   ]
  },
  {
   "cell_type": "code",
   "execution_count": 3,
   "metadata": {},
   "outputs": [],
   "source": [
    "#r1_budget = output[0]\n",
    "#D1 = output[1]\n"
   ]
  },
  {
   "cell_type": "code",
   "execution_count": 4,
   "metadata": {},
   "outputs": [],
   "source": [
    "#r1_budget['time_A'] = datetime.strptime(D1,'%Y-%m-%d')\n",
    "#r1_budget['DepartureDate'] = pd.to_datetime(r1_budget['DepartureDate'])\n",
    "#diff = r1_budget['DepartureDate'] - datetime.strptime(D1,'%Y-%m-%d')\n",
    "#r1_budget['time_delta'] = diff.abs()\n",
    "#r1_budget = r1_budget.sort_values(by='time_delta')"
   ]
  },
  {
   "cell_type": "code",
   "execution_count": 5,
   "metadata": {},
   "outputs": [],
   "source": [
    "#r1_budget"
   ]
  },
  {
   "cell_type": "code",
   "execution_count": null,
   "metadata": {},
   "outputs": [],
   "source": []
  }
 ],
 "metadata": {
  "kernelspec": {
   "display_name": "Python 3",
   "language": "python",
   "name": "python3"
  },
  "language_info": {
   "codemirror_mode": {
    "name": "ipython",
    "version": 3
   },
   "file_extension": ".py",
   "mimetype": "text/x-python",
   "name": "python",
   "nbconvert_exporter": "python",
   "pygments_lexer": "ipython3",
   "version": "3.7.6"
  }
 },
 "nbformat": 4,
 "nbformat_minor": 4
}
