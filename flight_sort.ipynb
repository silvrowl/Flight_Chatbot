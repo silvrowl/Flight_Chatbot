{
 "cells": [
  {
   "cell_type": "code",
   "execution_count": 1,
   "metadata": {},
   "outputs": [
    {
     "name": "stderr",
     "output_type": "stream",
     "text": [
      "/home/dan/Desktop/Project_07/chatbot_env/lib/python3.7/site-packages/fuzzywuzzy/fuzz.py:11: UserWarning: Using slow pure-python SequenceMatcher. Install python-Levenshtein to remove this warning\n",
      "  warnings.warn('Using slow pure-python SequenceMatcher. Install python-Levenshtein to remove this warning')\n",
      "[nltk_data] Downloading package averaged_perceptron_tagger to\n",
      "[nltk_data]     /home/dan/nltk_data...\n",
      "[nltk_data]   Package averaged_perceptron_tagger is already up-to-\n",
      "[nltk_data]       date!\n",
      "[nltk_data] Downloading package punkt to /home/dan/nltk_data...\n",
      "[nltk_data]   Package punkt is already up-to-date!\n"
     ]
    }
   ],
   "source": [
    "import pandas as pd\n",
    "import api_request_parse as rp\n",
    "import datetime\n",
    "from datetime import datetime\n"
   ]
  },
  {
   "cell_type": "code",
   "execution_count": 2,
   "metadata": {},
   "outputs": [
    {
     "name": "stdout",
     "output_type": "stream",
     "text": [
      "['toronto', 'boston'] ['A', 'B'] [datetime.datetime(2020, 7, 14, 0, 0), datetime.datetime(2020, 7, 28, 0, 0)] ['900']\n",
      "['YYZ' 'YBZ' 'YTZ' 'XLQ']\n",
      "['BOS']\n",
      "YBZ to BOS flight not found \n",
      "\n",
      "XLQ to BOS flight not found \n",
      "\n",
      "YBZ to BOS flight not found \n",
      "\n",
      "XLQ to BOS flight not found \n",
      "\n",
      "Here are some departing flights: \n",
      "Toronto Island to Boston Logan International for 103.0$ on Porter Airlines at 00 on 2020-07-14\n",
      "Toronto Island to Boston Logan International for 89.0$ on Porter Airlines at 00 on 2020-07-16\n",
      "Toronto Island to Boston Logan International for 125.0$ on Porter Airlines at 00 on 2020-07-12\n",
      "Toronto Island to Boston Logan International for 121.0$ on Porter Airlines at 00 on 2020-07-20\n",
      "\n",
      " And here are some returning flights: \n",
      "Boston Logan International to Toronto Island for 68.0$ on Porter Airlines at 00 on 2020-07-29\n",
      "Boston Logan International to Toronto Island for 68.0$ on Porter Airlines at 00 on 2020-07-26\n",
      "Boston Logan International to Toronto Island for 68.0$ on Porter Airlines at 00 on 2020-07-24\n",
      "Boston Logan International to Toronto Pearson International for 88.0$ on WestJet at 00 on 2020-07-23\n",
      "\n"
     ]
    }
   ],
   "source": [
    "Locations_list = ['toronto','boston']\n",
    "Locations_type = ['A','B']\n",
    "Dates_list = [datetime(2020, 7, 14, 0, 0), datetime(2020, 7, 28, 0, 0)]\n",
    "Money_list = ['900']\n",
    "\n",
    "output = rp.flight_options(Locations_list, Locations_type, Dates_list, Money_list)\n",
    "\n",
    "print(output)"
   ]
  },
  {
   "cell_type": "code",
   "execution_count": 3,
   "metadata": {},
   "outputs": [],
   "source": [
    "#r1_budget = output[0]\n",
    "#D1 = output[1]\n"
   ]
  },
  {
   "cell_type": "code",
   "execution_count": 4,
   "metadata": {},
   "outputs": [],
   "source": [
    "#r1_budget['time_A'] = datetime.strptime(D1,'%Y-%m-%d')\n",
    "#r1_budget['DepartureDate'] = pd.to_datetime(r1_budget['DepartureDate'])\n",
    "#diff = r1_budget['DepartureDate'] - datetime.strptime(D1,'%Y-%m-%d')\n",
    "#r1_budget['time_delta'] = diff.abs()\n",
    "#r1_budget = r1_budget.sort_values(by='time_delta')"
   ]
  },
  {
   "cell_type": "code",
   "execution_count": 5,
   "metadata": {},
   "outputs": [],
   "source": [
    "#r1_budget"
   ]
  },
  {
   "cell_type": "code",
   "execution_count": null,
   "metadata": {},
   "outputs": [],
   "source": []
  }
 ],
 "metadata": {
  "kernelspec": {
   "display_name": "Python 3",
   "language": "python",
   "name": "python3"
  },
  "language_info": {
   "codemirror_mode": {
    "name": "ipython",
    "version": 3
   },
   "file_extension": ".py",
   "mimetype": "text/x-python",
   "name": "python",
   "nbconvert_exporter": "python",
   "pygments_lexer": "ipython3",
   "version": "3.7.6"
  }
 },
 "nbformat": 4,
 "nbformat_minor": 4
}
