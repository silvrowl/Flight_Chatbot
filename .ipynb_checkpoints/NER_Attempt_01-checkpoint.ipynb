{
 "cells": [
  {
   "cell_type": "code",
   "execution_count": 226,
   "metadata": {},
   "outputs": [],
   "source": [
    "#%pip install spacy -qq\n",
    "\n",
    "#POC model that is able to extract locations (to and from), dates and prices ranges from conversational text.\n",
    "\n",
    "import nltk, nltk.tag, nltk.chunk\n",
    "import spacy\n",
    "import pprint as pprint\n",
    "from gensim.summarization import summarize\n",
    "from collections import Counter\n",
    "\n",
    "#import en_core_web_sm\n",
    "#nlp = en_core_web_sm.load()\n",
    "\n",
    "from bs4 import BeautifulSoup\n",
    "import requests\n",
    "import re\n",
    "from spacy import displacy\n"
   ]
  },
  {
   "cell_type": "code",
   "execution_count": 227,
   "metadata": {},
   "outputs": [],
   "source": [
    "#If I want to use a prepackaged NLP\n",
    "\n",
    "#ny_bb = 'Tlg bawa kami graduan dan family pulang.. They came for our convo but then cancelled unfortunately our flight has been cancelled too because egypt had suspended all international flight in and out. Most of airlines may not be operating till june'\n",
    "#article = nlp(ny_bb)\n",
    "#labels = [x.label_ for x in article.ents]\n",
    "#Counter(labels)\n",
    "#sentences = [x for x in article.sents]\n",
    "#displacy.render(nlp(str(sentences[:])), jupyter=True, style='ent')\n",
    "#print(sentences[40])"
   ]
  },
  {
   "cell_type": "markdown",
   "metadata": {},
   "source": [
    "# Build My own NLP"
   ]
  },
  {
   "cell_type": "markdown",
   "metadata": {},
   "source": [
    "## Create Training Data"
   ]
  },
  {
   "cell_type": "code",
   "execution_count": 228,
   "metadata": {},
   "outputs": [
    {
     "name": "stderr",
     "output_type": "stream",
     "text": [
      "[nltk_data] Downloading package nps_chat to /home/dan/nltk_data...\n",
      "[nltk_data]   Package nps_chat is already up-to-date!\n"
     ]
    }
   ],
   "source": [
    "nltk.download('nps_chat')\n",
    "\n",
    "from nltk.corpus import nps_chat\n",
    "chatroom = nps_chat.posts('10-19-20s_706posts.xml')"
   ]
  },
  {
   "cell_type": "code",
   "execution_count": 229,
   "metadata": {},
   "outputs": [],
   "source": [
    "#for t in chatroom:\n",
    "#    print(t)"
   ]
  },
  {
   "cell_type": "code",
   "execution_count": 230,
   "metadata": {},
   "outputs": [],
   "source": [
    "Sample_Text_1 = [['Hi there'],\n",
    "               ['How can I help you?'],\n",
    "               ['Are there any flights from Houston to Boston'],\n",
    "               ['Yes, for which dates would you like?'],\n",
    "               ['June 3rd to June 18th'],\n",
    "               ['How much would like to spend?'],\n",
    "               ['Under 500'],\n",
    "               ['Great, Here are some options:']]\n",
    "\n",
    "\n",
    "Sample_Text_2 = [['Good Morning'],\n",
    "               ['How can i help you?'],\n",
    "               ['I would like to see if I can travel from Seattle to Chicago tomorrow'],\n",
    "               ['When would you like to come back'],\n",
    "               ['In two weeks, but I am flexible on the day'],\n",
    "               ['What is your budget'],\n",
    "               ['Less than fifteen hundred dollars'],\n",
    "               ['Great, Here are some options:']]\n",
    "               \n",
    "Sample_Text_3 = [['Yo'],\n",
    "               ['How can I help you?'],\n",
    "               ['How much is it to go from San Diego to Los Angeles. I have to get there for a wedding.'],\n",
    "               ['When would you like to travel'],\n",
    "               ['March 1st to March 2nd'],\n",
    "               ['What is your budget'],\n",
    "               ['The cheapest you can find'],\n",
    "               ['Great, Here are some options:']]\n",
    "\n",
    "Sample_Text_4 = [['Guten Tag'],\n",
    "               ['How can I help you?'],\n",
    "               ['I would like to fly to San Francisco as soon as possible'],\n",
    "               ['What is your budget'],\n",
    "               ['Price is no object, and I would like first class if possible'],\n",
    "               ['Great, Here are some options:']]\n",
    "\n",
    "Sample_Text_5 = [['Hello'],\n",
    "               ['How can I help you?'],\n",
    "               ['I would like to fly to Portland as soon as possible'],\n",
    "               ['Where are you located'],\n",
    "               ['Washington'],\n",
    "               ['What is your budget'],\n",
    "               ['Between $400 and $500'],\n",
    "               ['Great, Here are some options:']]\n",
    "\n",
    "\n",
    "Complete_Sample = Sample_Text_1 + Sample_Text_2 + Sample_Text_3 + Sample_Text_4 + Sample_Text_5\n",
    "\n",
    "#Complete_Sample = Sample_Text_1"
   ]
  },
  {
   "cell_type": "code",
   "execution_count": 231,
   "metadata": {},
   "outputs": [
    {
     "data": {
      "text/plain": [
       "[['Hi there '],\n",
       " ['How can I help you? '],\n",
       " ['Are there any flights from Houston to Boston '],\n",
       " ['Yes, for which dates would you like? '],\n",
       " ['June 3rd to June 18'],\n",
       " ['How much would like to spend? '],\n",
       " ['Under 500'],\n",
       " ['Great, Here are some options: '],\n",
       " ['Good Morning '],\n",
       " ['How can i help you? '],\n",
       " ['I would like to see if I can travel from Seattle to Chicago tomorrow '],\n",
       " ['When would you like to come back '],\n",
       " ['In 2 weeks, but I am flexible on the day '],\n",
       " ['What is your budget '],\n",
       " ['Less than 1500 dollars '],\n",
       " ['Great, Here are some options: '],\n",
       " ['Yo '],\n",
       " ['How can I help you? '],\n",
       " ['How much is it to go from San Diego to Los Angeles. I have to get there for a wedding. '],\n",
       " ['When would you like to travel '],\n",
       " ['March 1st to March 2nd '],\n",
       " ['What is your budget '],\n",
       " ['The cheapest you can find '],\n",
       " ['Great, Here are some options: '],\n",
       " ['Guten Tag '],\n",
       " ['How can I help you? '],\n",
       " ['I would like to fly to San Francisco today '],\n",
       " ['What is your budget '],\n",
       " ['Price is no object, and I would like 1 class if possible '],\n",
       " ['Great, Here are some options: '],\n",
       " ['Hello '],\n",
       " ['How can I help you? '],\n",
       " ['I would like to fly to Portland today '],\n",
       " ['Where are you located '],\n",
       " ['Washington '],\n",
       " ['What is your budget '],\n",
       " ['Between $400 and $500 '],\n",
       " ['Great, Here are some options: ']]"
      ]
     },
     "execution_count": 231,
     "metadata": {},
     "output_type": "execute_result"
    }
   ],
   "source": [
    "def is_number(x):\n",
    "    if type(x) == str:\n",
    "        x = x.replace(',', '')\n",
    "    try:\n",
    "        float(x)\n",
    "    except:\n",
    "        return False\n",
    "    return True\n",
    "\n",
    "def text2int (textnum, numwords={}):\n",
    "    units = [\n",
    "        'zero', 'one', 'two', 'three', 'four', 'five', 'six', 'seven', 'eight',\n",
    "        'nine', 'ten', 'eleven', 'twelve', 'thirteen', 'fourteen', 'fifteen',\n",
    "        'sixteen', 'seventeen', 'eighteen', 'nineteen',\n",
    "    ]\n",
    "    tens = ['', '', 'twenty', 'thirty', 'forty', 'fifty', 'sixty', 'seventy', 'eighty', 'ninety']\n",
    "    scales = ['hundred', 'thousand', 'million', 'billion', 'trillion']\n",
    "    ordinal_words = {'first':1, 'second':2, 'third':3, 'fifth':5, 'eighth':8, 'ninth':9, 'twelfth':12}\n",
    "    ordinal_endings = [('ieth', 'y'), ('th', '')]\n",
    "\n",
    "    if not numwords:\n",
    "        numwords['and'] = (1, 0)\n",
    "        for idx, word in enumerate(units): numwords[word] = (1, idx)\n",
    "        for idx, word in enumerate(tens): numwords[word] = (1, idx * 10)\n",
    "        for idx, word in enumerate(scales): numwords[word] = (10 ** (idx * 3 or 2), 0)\n",
    "\n",
    "    textnum = textnum.replace('-', ' ')\n",
    "\n",
    "    current = result = 0\n",
    "    curstring = ''\n",
    "    onnumber = False\n",
    "    lastunit = False\n",
    "    lastscale = False\n",
    "\n",
    "    def is_numword(x):\n",
    "        if is_number(x):\n",
    "            return True\n",
    "        if word in numwords:\n",
    "            return True\n",
    "        return False\n",
    "\n",
    "    def from_numword(x):\n",
    "        if is_number(x):\n",
    "            scale = 0\n",
    "            increment = int(x.replace(',', ''))\n",
    "            return scale, increment\n",
    "        return numwords[x]\n",
    "\n",
    "    for word in textnum.split():\n",
    "        if word in ordinal_words:\n",
    "            scale, increment = (1, ordinal_words[word])\n",
    "            current = current * scale + increment\n",
    "            if scale > 100:\n",
    "                result += current\n",
    "                current = 0\n",
    "            onnumber = True\n",
    "            lastunit = False\n",
    "            lastscale = False\n",
    "        else:\n",
    "            for ending, replacement in ordinal_endings:\n",
    "                if word.endswith(ending):\n",
    "                    word = \"%s%s\" % (word[:-len(ending)], replacement)\n",
    "\n",
    "            if (not is_numword(word)) or (word == 'and' and not lastscale):\n",
    "                if onnumber:\n",
    "                    # Flush the current number we are building\n",
    "                    curstring += repr(result + current) + \" \"\n",
    "                curstring += word + \" \"\n",
    "                result = current = 0\n",
    "                onnumber = False\n",
    "                lastunit = False\n",
    "                lastscale = False\n",
    "            else:\n",
    "                scale, increment = from_numword(word)\n",
    "                onnumber = True\n",
    "\n",
    "                if lastunit and (word not in scales):                                                                                                                                                                                                                                         \n",
    "                    # Assume this is part of a string of individual numbers to                                                                                                                                                                                                                \n",
    "                    # be flushed, such as a zipcode \"one two three four five\"                                                                                                                                                                                                                 \n",
    "                    curstring += repr(result + current)                                                                                                                                                                                                                                       \n",
    "                    result = current = 0                                                                                                                                                                                                                                                      \n",
    "\n",
    "                if scale > 1:                                                                                                                                                                                                                                                                 \n",
    "                    current = max(1, current)                                                                                                                                                                                                                                                 \n",
    "\n",
    "                current = current * scale + increment                                                                                                                                                                                                                                         \n",
    "                if scale > 100:                                                                                                                                                                                                                                                               \n",
    "                    result += current                                                                                                                                                                                                                                                         \n",
    "                    current = 0                                                                                                                                                                                                                                                               \n",
    "\n",
    "                lastscale = False                                                                                                                                                                                                              \n",
    "                lastunit = False                                                                                                                                                \n",
    "                if word in scales:                                                                                                                                                                                                             \n",
    "                    lastscale = True                                                                                                                                                                                                         \n",
    "                elif word in units:                                                                                                                                                                                                             \n",
    "                    lastunit = True\n",
    "\n",
    "    if onnumber:\n",
    "        curstring += repr(result + current)\n",
    "\n",
    "    return curstring\n",
    " \n",
    "Complete_Sample_2 = [[text2int(sent[0])] for sent in Complete_Sample]   \n",
    "\n",
    "cnt = 0\n",
    "for cnt in np.arange(0,len(Complete_Sample_2)):\n",
    "    Complete_Sample_2[cnt][0] = Complete_Sample_2[cnt][0].replace('as soon as possible','today')\n",
    "    Complete_Sample_2[cnt][0] = Complete_Sample_2[cnt][0].replace('asap','today')\n",
    "    Complete_Sample_2[cnt][0] = Complete_Sample_2[cnt][0].replace('ASAP','today')\n",
    "    \n",
    "    \n",
    "Complete_Sample_2"
   ]
  },
  {
   "cell_type": "markdown",
   "metadata": {},
   "source": [
    "## Tokenizer"
   ]
  },
  {
   "cell_type": "code",
   "execution_count": 232,
   "metadata": {},
   "outputs": [
    {
     "name": "stdout",
     "output_type": "stream",
     "text": [
      "['Hi there']\n"
     ]
    }
   ],
   "source": [
    "#nltk.download('punkt')\n",
    "from nltk.tokenize import sent_tokenize\n",
    "\n",
    "token_sent = []\n",
    "\n",
    "for response in Complete_Sample_2:\n",
    "    token_sent.append(sent_tokenize(response[0]))\n",
    "\n",
    "print(token_sent[0])"
   ]
  },
  {
   "cell_type": "code",
   "execution_count": 233,
   "metadata": {
    "scrolled": true
   },
   "outputs": [
    {
     "name": "stdout",
     "output_type": "stream",
     "text": [
      "[['Hi', 'there'], ['How', 'can', 'I', 'help', 'you', '?'], ['Are', 'there', 'any', 'flights', 'from', 'Houston', 'to', 'Boston'], ['Yes', ',', 'for', 'which', 'dates', 'would', 'you', 'like', '?'], ['June', '3rd', 'to', 'June', '18'], ['How', 'much', 'would', 'like', 'to', 'spend', '?'], ['Under', '500'], ['Great', ',', 'Here', 'are', 'some', 'options', ':'], ['Good', 'Morning'], ['How', 'can', 'i', 'help', 'you', '?'], ['I', 'would', 'like', 'to', 'see', 'if', 'I', 'can', 'travel', 'from', 'Seattle', 'to', 'Chicago', 'tomorrow'], ['When', 'would', 'you', 'like', 'to', 'come', 'back'], ['In', '2', 'weeks', ',', 'but', 'I', 'am', 'flexible', 'on', 'the', 'day'], ['What', 'is', 'your', 'budget'], ['Less', 'than', '1500', 'dollars'], ['Great', ',', 'Here', 'are', 'some', 'options', ':'], ['Yo'], ['How', 'can', 'I', 'help', 'you', '?'], ['How', 'much', 'is', 'it', 'to', 'go', 'from', 'San', 'Diego', 'to', 'Los', 'Angeles', '.'], ['When', 'would', 'you', 'like', 'to', 'travel'], ['March', '1st', 'to', 'March', '2nd'], ['What', 'is', 'your', 'budget'], ['The', 'cheapest', 'you', 'can', 'find'], ['Great', ',', 'Here', 'are', 'some', 'options', ':'], ['Guten', 'Tag'], ['How', 'can', 'I', 'help', 'you', '?'], ['I', 'would', 'like', 'to', 'fly', 'to', 'San', 'Francisco', 'today'], ['What', 'is', 'your', 'budget'], ['Price', 'is', 'no', 'object', ',', 'and', 'I', 'would', 'like', '1', 'class', 'if', 'possible'], ['Great', ',', 'Here', 'are', 'some', 'options', ':'], ['Hello'], ['How', 'can', 'I', 'help', 'you', '?'], ['I', 'would', 'like', 'to', 'fly', 'to', 'Portland', 'today'], ['Where', 'are', 'you', 'located'], ['Washington'], ['What', 'is', 'your', 'budget'], ['Between', '$', '400', 'and', '$', '500'], ['Great', ',', 'Here', 'are', 'some', 'options', ':']]\n"
     ]
    }
   ],
   "source": [
    "token_word = []\n",
    "from nltk.tokenize import word_tokenize\n",
    "for word in token_sent:\n",
    "    token_word.append(word_tokenize(str(word[0])))\n",
    "\n",
    "print(token_word)"
   ]
  },
  {
   "cell_type": "code",
   "execution_count": 234,
   "metadata": {},
   "outputs": [
    {
     "name": "stdout",
     "output_type": "stream",
     "text": [
      "['hi', 'help', 'flights', 'houston', 'boston', 'yes', 'dates', 'would', 'like', 'june', '3rd', 'june', '18', 'much', 'would', 'like', 'spend', '500', 'great', 'options', 'good', 'morning', 'help', 'would', 'like', 'see', 'travel', 'seattle', 'chicago', 'tomorrow', 'would', 'like', 'come', 'back', '2', 'weeks', 'flexible', 'day', 'budget', 'less', '1500', 'dollars', 'great', 'options', 'yo', 'help', 'much', 'go', 'san', 'diego', 'los', 'angeles', 'would', 'like', 'travel', 'march', '1st', 'march', '2nd', 'budget', 'cheapest', 'find', 'great', 'options', 'guten', 'tag', 'help', 'would', 'like', 'fly', 'san', 'francisco', 'today', 'budget', 'price', 'object', 'would', 'like', '1', 'class', 'possible', 'great', 'options', 'hello', 'help', 'would', 'like', 'fly', 'portland', 'today', 'located', 'washington', 'budget', '400', '500', 'great', 'options']\n"
     ]
    }
   ],
   "source": [
    "#nltk.download('stopwords')\n",
    "from nltk.corpus import stopwords\n",
    "stop_words = stopwords.words('english')\n",
    "\n",
    "stop_words\n",
    "\n",
    "import string\n",
    "\n",
    "no_punct = [] \n",
    "            \n",
    "for t in token_word:\n",
    "    for ts in t:\n",
    "        if ts not in string.punctuation:\n",
    "            no_punct.append(ts)\n",
    "\n",
    "no_punct\n",
    "data_lower = [w.lower() for w in no_punct]\n",
    "\n",
    "#data_lower\n",
    "filtered_sent=[]\n",
    "\n",
    "for w in data_lower:\n",
    "    if w not in stop_words:\n",
    "        filtered_sent.append(w)\n",
    "\n",
    "print(filtered_sent)"
   ]
  },
  {
   "cell_type": "code",
   "execution_count": 235,
   "metadata": {},
   "outputs": [],
   "source": [
    "#Stemmer and Lemmatizer\n",
    "\n",
    "#from nltk.stem import PorterStemmer\n",
    "#from nltk.stem import LancasterStemmer\n",
    "\n",
    "#ps= PorterStemmer()\n",
    "#ls = LancasterStemmer()\n",
    "\n",
    "#psstemmed_words=[]\n",
    "#lsstemmed_words = []\n",
    "\n",
    "#for w in filtered_sent:    \n",
    "    #psstemmed_words.append(ps.stem(w))\n",
    "    #lsstemmed_words.append(ls.stem(w))\n",
    "    #print(\"Words \"+w+ \"    PS :\"+ps.stem(w) + \"     LS : \"+ls.stem(w))\n",
    "\n",
    "    \n",
    "#from nltk.stem.wordnet import WordNetLemmatizer\n",
    "#nltk.download('wordnet')\n",
    "\n",
    "#lem = WordNetLemmatizer()\n",
    "#for word in filtered_sent:\n",
    "#    print (\"{0:20}{1:20}\".format(word,lem.lemmatize(word, pos =\"v\")))\n",
    "\n",
    "#today = date.today()\n",
    "#d1 = today.strftime(\"%B %d\")\n",
    "\n",
    "#print(str(d1))"
   ]
  },
  {
   "cell_type": "markdown",
   "metadata": {},
   "source": [
    "## Data Cleaning Massaging"
   ]
  },
  {
   "cell_type": "code",
   "execution_count": 236,
   "metadata": {},
   "outputs": [
    {
     "name": "stdout",
     "output_type": "stream",
     "text": [
      "3\n",
      "1\n",
      "2\n"
     ]
    },
    {
     "data": {
      "text/plain": [
       "['hi',\n",
       " 'help',\n",
       " 'flights',\n",
       " 'houston',\n",
       " 'boston',\n",
       " 'yes',\n",
       " 'dates',\n",
       " 'would',\n",
       " 'like',\n",
       " 'june',\n",
       " '3',\n",
       " 'june',\n",
       " '18',\n",
       " 'much',\n",
       " 'would',\n",
       " 'like',\n",
       " 'spend',\n",
       " '500',\n",
       " 'great',\n",
       " 'options',\n",
       " 'good',\n",
       " 'morning',\n",
       " 'help',\n",
       " 'would',\n",
       " 'like',\n",
       " 'see',\n",
       " 'travel',\n",
       " 'seattle',\n",
       " 'chicago',\n",
       " '25-03-2020',\n",
       " 'would',\n",
       " 'like',\n",
       " 'come',\n",
       " 'back',\n",
       " '2',\n",
       " 'weeks',\n",
       " 'flexible',\n",
       " 'day',\n",
       " 'budget',\n",
       " 'less',\n",
       " '1500',\n",
       " 'dollars',\n",
       " 'great',\n",
       " 'options',\n",
       " 'yo',\n",
       " 'help',\n",
       " 'much',\n",
       " 'go',\n",
       " 'san',\n",
       " 'diego',\n",
       " 'los',\n",
       " 'angeles',\n",
       " 'would',\n",
       " 'like',\n",
       " 'travel',\n",
       " 'march',\n",
       " '1',\n",
       " 'march',\n",
       " '2',\n",
       " 'budget',\n",
       " 'cheapest',\n",
       " 'find',\n",
       " 'great',\n",
       " 'options',\n",
       " 'guten',\n",
       " 'tag',\n",
       " 'help',\n",
       " 'would',\n",
       " 'like',\n",
       " 'fly',\n",
       " 'san',\n",
       " 'francisco',\n",
       " '24-03-2020',\n",
       " 'budget',\n",
       " 'price',\n",
       " 'object',\n",
       " 'would',\n",
       " 'like',\n",
       " '1',\n",
       " 'class',\n",
       " 'possible',\n",
       " 'great',\n",
       " 'options',\n",
       " 'hello',\n",
       " 'help',\n",
       " 'would',\n",
       " 'like',\n",
       " 'fly',\n",
       " 'portland',\n",
       " '24-03-2020',\n",
       " 'located',\n",
       " 'washington',\n",
       " 'budget',\n",
       " '400',\n",
       " '500',\n",
       " 'great',\n",
       " 'options']"
      ]
     },
     "execution_count": 236,
     "metadata": {},
     "output_type": "execute_result"
    }
   ],
   "source": [
    "#Data Cleaning / Massaging\n",
    "\n",
    "# Places -> Fine\n",
    "\n",
    "# Time and Dates\n",
    "import datetime\n",
    "from datetime import date\n",
    "\n",
    "today = date.today()\n",
    "tomorrow = date.today() + datetime.timedelta(days=1)\n",
    "\n",
    "filtered_sent_2 = filtered_sent.copy()\n",
    "cnt = 0 \n",
    "\n",
    "for word in filtered_sent:\n",
    "    if word[-2:] == 'th' or word[-2:] == 'st' or word[-2:] == 'rd' or word[-2:] == 'nd':\n",
    "        try:\n",
    "            int(word[0])\n",
    "            print(word[:-2])\n",
    "            filtered_sent_2[cnt] = word[:-2]\n",
    "\n",
    "        except:\n",
    "            cnt2=1\n",
    "            \n",
    "    if word == 'tomorrow':        \n",
    "        filtered_sent_2[cnt] =  tomorrow.strftime(\"%d-%m-%Y\")\n",
    "        #print(d2)\n",
    "        \n",
    "    if word == 'today' or word == 'now':        \n",
    "        filtered_sent_2[cnt] = today.strftime(\"%d-%m-%Y\")       \n",
    "        #print(d1)    \n",
    "        \n",
    "    cnt = cnt +1\n",
    "\n",
    "#filtered_sent_2"
   ]
  },
  {
   "cell_type": "markdown",
   "metadata": {},
   "source": [
    "## Tagger"
   ]
  },
  {
   "cell_type": "code",
   "execution_count": 237,
   "metadata": {},
   "outputs": [],
   "source": [
    "#dl_pos =  nltk.pos_tag(data_lower)\n",
    "#dl_pos = default_tagger.tag(data_lower)"
   ]
  },
  {
   "cell_type": "code",
   "execution_count": 238,
   "metadata": {},
   "outputs": [],
   "source": [
    "#nltk.download('averaged_perceptron_tagger')\n",
    "#nltk.pos_tag(data_lower)\n",
    "from nltk.tag import UnigramTagger\n",
    "from nltk.corpus import brown\n",
    "\n",
    "brown_tagged_sents = brown.tagged_sents(categories='news')\n",
    "\n",
    "size = int(len(brown_tagged_sents) * 0.9)\n",
    "\n",
    "train_sents = brown_tagged_sents[:size]\n",
    "test_sents = brown_tagged_sents[size:]\n",
    "\n",
    "t0 = nltk.DefaultTagger('NN')\n",
    "t1 = nltk.UnigramTagger(train_sents, backoff=t0)\n",
    "t2 = nltk.BigramTagger(train_sents, backoff=t1)\n",
    "#t2.tag(filtered_sent_2)\n"
   ]
  },
  {
   "cell_type": "markdown",
   "metadata": {},
   "source": [
    "## Parsers\n",
    "\n",
    "https://www.nltk.org/api/nltk.parse.html\n",
    "\n",
    "Run specific parsers according to each type of information we want to extract?"
   ]
  },
  {
   "cell_type": "markdown",
   "metadata": {},
   "source": [
    "## Locations"
   ]
  },
  {
   "cell_type": "code",
   "execution_count": 239,
   "metadata": {},
   "outputs": [
    {
     "name": "stdout",
     "output_type": "stream",
     "text": [
      "houston\n",
      "boston\n",
      "seattle\n",
      "chicago\n",
      "san diego\n",
      "los angeles\n",
      "san francisco\n",
      "portland\n",
      "washington\n"
     ]
    }
   ],
   "source": [
    "### Locations\n",
    "#https://www.geeksforgeeks.org/nlp-location-tags-extraction/\n",
    "import numpy as np\n",
    "from nltk.chunk import ChunkParserI \n",
    "from nltk.chunk.util import conlltags2tree \n",
    "from nltk.corpus import gazetteers \n",
    "  \n",
    "#sent_pos = nltk.pos_tag(data_lower)    \n",
    "words_tagged = t2.tag(filtered_sent_2)\n",
    "place_lower = [w.lower() for w in gazetteers.words()]\n",
    "\n",
    "loc_tag = words_tagged\n",
    "\n",
    "cnt=0\n",
    "for cnt in np.arange(1,len(words_tagged)-1):\n",
    "    if words_tagged[cnt][0] in place_lower:\n",
    "        if words_tagged[cnt][1] == 'NN':\n",
    "            print(words_tagged[cnt][0])\n",
    "            loc_tag[cnt] = (words_tagged[cnt][0],'LOCATION') \n",
    "            \n",
    "    link_place = words_tagged[cnt][0] + ' ' + words_tagged[cnt+1][0]        \n",
    "    if link_place in place_lower:      \n",
    "        if words_tagged[cnt][1] in ['JJ','NN'] and words_tagged[cnt+1][1] == 'NN':\n",
    "            print(link_place)\n",
    "            loc_tag[cnt] = (link_place,'LOCATION') \n",
    "            \n",
    "    cnt=cnt+1\n",
    "\n",
    "#print(loc_tag)\n",
    "#'/' in '25/03/2020'"
   ]
  },
  {
   "cell_type": "markdown",
   "metadata": {},
   "source": [
    "## Time and Dates and Money\n"
   ]
  },
  {
   "cell_type": "code",
   "execution_count": 240,
   "metadata": {},
   "outputs": [],
   "source": [
    "#https://stackoverflow.com/questions/31088509/identifying-dates-in-strings-using-nltk\n",
    "#from nltk.tag import StanfordNERTagger\n",
    "#stanfordClassifier = '/path/to/classifier/classifiers/english.muc.7class.distsim.crf.ser.gz'\n",
    "#stanfordNerPath = '/path/to/jar/stanford-ner-2017-06-09/stanford-ner.jar'\n",
    "#st = StanfordNERTagger(stanfordClassifier, stanfordNerPath, encoding='utf8')\n",
    "\n",
    "#result = st.tag(data_lower)\n",
    "#print(result)\n",
    "\n",
    "time_tag = loc_tag.copy()\n",
    "\n",
    "month_lower = ['january','february','march','april','may','june',\n",
    "              'july','august','september','october','november','december',\n",
    "              'jan','feb','mar','apr','may','jun',\n",
    "              'jul','aug','sep','oct','nov','dec','week','weeks','month']\n",
    "\n",
    "cnt=0\n",
    "for cnt in np.arange(1,len(loc_tag)-1):\n",
    "    \n",
    "    if '-' in loc_tag[cnt][0]:\n",
    "                time_tag[cnt] = (loc_tag[cnt][0],'DATETIME') \n",
    "    \n",
    "    if loc_tag[cnt][0] in month_lower:\n",
    "        if loc_tag[cnt][1] == 'NN' or loc_tag[cnt][1] == 'NNS':\n",
    "                   \n",
    "            date_p2 = loc_tag[cnt-1][0]        \n",
    "            try:\n",
    "                int(date_p2)\n",
    "                time_tag[cnt] = (loc_tag[cnt][0] + ' ' + date_p2 ,'DATETIME') \n",
    "                #time_tag[cnt-1] = ('','NN') \n",
    "            except:\n",
    "                cnt2=1    \n",
    "                \n",
    "            date_p1 = loc_tag[cnt+1][0]        \n",
    "            try:\n",
    "                int(date_p1)\n",
    "                time_tag[cnt] = (loc_tag[cnt][0] + ' ' + date_p1,'DATETIME') \n",
    "                #time_tag[cnt+1] = ('','NN') \n",
    "            except:\n",
    "                cnt2=1\n",
    "    cnt=cnt+1\n",
    "\n",
    "#print(loc_tag)\n",
    "\n",
    "grammar = 'NumPhrase: {<CD><CD|NNS|JJ>}'\n",
    "t_parser = nltk.RegexpParser(grammar)\n",
    "\n",
    "final_tree = t_parser.parse(time_tag)"
   ]
  },
  {
   "cell_type": "code",
   "execution_count": 241,
   "metadata": {},
   "outputs": [
    {
     "name": "stdout",
     "output_type": "stream",
     "text": [
      "<class 'nltk.tree.Tree'>\n",
      "(S\n",
      "  hi/NN\n",
      "  help/VB\n",
      "  flights/NNS\n",
      "  houston/LOCATION\n",
      "  boston/LOCATION\n",
      "  yes/NN\n",
      "  dates/NNS\n",
      "  would/MD\n",
      "  like/VB\n",
      "  june 3/DATETIME\n",
      "  3/CD\n",
      "  june 18/DATETIME\n",
      "  18/CD\n",
      "  much/AP\n",
      "  would/MD\n",
      "  like/VB\n",
      "  spend/VB\n",
      "  (NumPhrase 500/CD great/JJ)\n",
      "  options/NN\n",
      "  good/NN\n",
      "  morning/NN\n",
      "  help/VB\n",
      "  would/MD\n",
      "  like/VB\n",
      "  see/VB\n",
      "  travel/NN\n",
      "  seattle/LOCATION\n",
      "  chicago/LOCATION\n",
      "  25-03-2020/DATETIME\n",
      "  would/MD\n",
      "  like/VB\n",
      "  come/VB\n",
      "  back/RB\n",
      "  2/CD\n",
      "  weeks 2/DATETIME\n",
      "  flexible/JJ\n",
      "  day/NN\n",
      "  budget/NN\n",
      "  less/QL\n",
      "  (NumPhrase 1500/CD dollars/NNS)\n",
      "  great/JJ\n",
      "  options/NN\n",
      "  yo/NN\n",
      "  help/VB\n",
      "  much/AP\n",
      "  go/VB\n",
      "  san diego/LOCATION\n",
      "  diego/NN\n",
      "  los angeles/LOCATION\n",
      "  angeles/NN\n",
      "  would/MD\n",
      "  like/VB\n",
      "  travel/NN\n",
      "  march 1/DATETIME\n",
      "  1/CD\n",
      "  march 2/DATETIME\n",
      "  2/CD\n",
      "  budget/NN\n",
      "  cheapest/NN\n",
      "  find/VB\n",
      "  great/JJ\n",
      "  options/NN\n",
      "  guten/NN\n",
      "  tag/NN\n",
      "  help/VB\n",
      "  would/MD\n",
      "  like/VB\n",
      "  fly/NN\n",
      "  san francisco/LOCATION\n",
      "  francisco/NN\n",
      "  24-03-2020/DATETIME\n",
      "  budget/NN\n",
      "  price/NN\n",
      "  object/NN\n",
      "  would/MD\n",
      "  like/VB\n",
      "  1/CD\n",
      "  class/NN\n",
      "  possible/JJ\n",
      "  great/JJ\n",
      "  options/NN\n",
      "  hello/NN\n",
      "  help/VB\n",
      "  would/MD\n",
      "  like/VB\n",
      "  fly/NN\n",
      "  portland/LOCATION\n",
      "  24-03-2020/DATETIME\n",
      "  located/VBN\n",
      "  washington/LOCATION\n",
      "  budget/NN\n",
      "  (NumPhrase 400/CD 500/CD)\n",
      "  great/JJ\n",
      "  options/NN)\n",
      "[('hi', 'NN', 'O'), ('help', 'VB', 'O'), ('flights', 'NNS', 'O'), ('houston', 'LOCATION', 'O'), ('boston', 'LOCATION', 'O'), ('yes', 'NN', 'O'), ('dates', 'NNS', 'O'), ('would', 'MD', 'O'), ('like', 'VB', 'O'), ('june 3', 'DATETIME', 'O'), ('3', 'CD', 'O'), ('june 18', 'DATETIME', 'O'), ('18', 'CD', 'O'), ('much', 'AP', 'O'), ('would', 'MD', 'O'), ('like', 'VB', 'O'), ('spend', 'VB', 'O'), ('500', 'CD', 'B-NumPhrase'), ('great', 'JJ', 'I-NumPhrase'), ('options', 'NN', 'O'), ('good', 'NN', 'O'), ('morning', 'NN', 'O'), ('help', 'VB', 'O'), ('would', 'MD', 'O'), ('like', 'VB', 'O'), ('see', 'VB', 'O'), ('travel', 'NN', 'O'), ('seattle', 'LOCATION', 'O'), ('chicago', 'LOCATION', 'O'), ('25-03-2020', 'DATETIME', 'O'), ('would', 'MD', 'O'), ('like', 'VB', 'O'), ('come', 'VB', 'O'), ('back', 'RB', 'O'), ('2', 'CD', 'O'), ('weeks 2', 'DATETIME', 'O'), ('flexible', 'JJ', 'O'), ('day', 'NN', 'O'), ('budget', 'NN', 'O'), ('less', 'QL', 'O'), ('1500', 'CD', 'B-NumPhrase'), ('dollars', 'NNS', 'I-NumPhrase'), ('great', 'JJ', 'O'), ('options', 'NN', 'O'), ('yo', 'NN', 'O'), ('help', 'VB', 'O'), ('much', 'AP', 'O'), ('go', 'VB', 'O'), ('san diego', 'LOCATION', 'O'), ('diego', 'NN', 'O'), ('los angeles', 'LOCATION', 'O'), ('angeles', 'NN', 'O'), ('would', 'MD', 'O'), ('like', 'VB', 'O'), ('travel', 'NN', 'O'), ('march 1', 'DATETIME', 'O'), ('1', 'CD', 'O'), ('march 2', 'DATETIME', 'O'), ('2', 'CD', 'O'), ('budget', 'NN', 'O'), ('cheapest', 'NN', 'O'), ('find', 'VB', 'O'), ('great', 'JJ', 'O'), ('options', 'NN', 'O'), ('guten', 'NN', 'O'), ('tag', 'NN', 'O'), ('help', 'VB', 'O'), ('would', 'MD', 'O'), ('like', 'VB', 'O'), ('fly', 'NN', 'O'), ('san francisco', 'LOCATION', 'O'), ('francisco', 'NN', 'O'), ('24-03-2020', 'DATETIME', 'O'), ('budget', 'NN', 'O'), ('price', 'NN', 'O'), ('object', 'NN', 'O'), ('would', 'MD', 'O'), ('like', 'VB', 'O'), ('1', 'CD', 'O'), ('class', 'NN', 'O'), ('possible', 'JJ', 'O'), ('great', 'JJ', 'O'), ('options', 'NN', 'O'), ('hello', 'NN', 'O'), ('help', 'VB', 'O'), ('would', 'MD', 'O'), ('like', 'VB', 'O'), ('fly', 'NN', 'O'), ('portland', 'LOCATION', 'O'), ('24-03-2020', 'DATETIME', 'O'), ('located', 'VBN', 'O'), ('washington', 'LOCATION', 'O'), ('budget', 'NN', 'O'), ('400', 'CD', 'B-NumPhrase'), ('500', 'CD', 'I-NumPhrase'), ('great', 'JJ', 'O'), ('options', 'NN', 'O')]\n"
     ]
    }
   ],
   "source": [
    "print(type(final_tag))\n",
    "print(final_tree)\n",
    "\n",
    "final_tags  = tree2conlltags(final_tree)\n",
    "print(final_tags)"
   ]
  },
  {
   "cell_type": "code",
   "execution_count": 242,
   "metadata": {},
   "outputs": [
    {
     "name": "stdout",
     "output_type": "stream",
     "text": [
      "[['houston'], ['boston'], ['seattle'], ['chicago'], ['san diego'], ['los angeles'], ['san francisco'], ['portland'], ['washington']] [['june 3'], ['june 18'], ['25-03-2020'], ['weeks 2'], ['march 1'], ['march 2'], ['24-03-2020'], ['24-03-2020']] [['500'], ['1500'], ['400']]\n"
     ]
    }
   ],
   "source": [
    "#Find all important tags\n",
    "from nltk import conlltags2tree, tree2conlltags\n",
    "\n",
    "Locations = [[tag[0]] for tag in final_tags if tag[1] == 'LOCATION']  \n",
    "Locations\n",
    "\n",
    "Dates = [[tag[0]] for tag in final_tags if tag[1] == 'DATETIME']  \n",
    "Dates\n",
    "\n",
    "Money = [[tag[0]] for tag in final_tags if tag[2] == 'B-NumPhrase']  \n",
    "Money\n",
    "\n",
    "print(Locations,Dates,Money)\n"
   ]
  },
  {
   "cell_type": "markdown",
   "metadata": {},
   "source": [
    "## NER\n",
    "Chunking?"
   ]
  },
  {
   "cell_type": "code",
   "execution_count": 243,
   "metadata": {},
   "outputs": [
    {
     "name": "stderr",
     "output_type": "stream",
     "text": [
      "[nltk_data] Downloading package maxent_ne_chunker to\n",
      "[nltk_data]     /home/dan/nltk_data...\n",
      "[nltk_data]   Package maxent_ne_chunker is already up-to-date!\n",
      "[nltk_data] Downloading package words to /home/dan/nltk_data...\n",
      "[nltk_data]   Package words is already up-to-date!\n"
     ]
    }
   ],
   "source": [
    "nltk.download('maxent_ne_chunker')\n",
    "nltk.download('words')\n",
    "from nltk import ne_chunk, pos_tag\n",
    "chunked = ne_chunk(time_tag)"
   ]
  },
  {
   "cell_type": "code",
   "execution_count": 244,
   "metadata": {},
   "outputs": [],
   "source": [
    "#print(chunked)"
   ]
  },
  {
   "cell_type": "markdown",
   "metadata": {},
   "source": [
    "## Text Categorizer"
   ]
  },
  {
   "cell_type": "markdown",
   "metadata": {},
   "source": [
    "## Custom Components"
   ]
  },
  {
   "cell_type": "markdown",
   "metadata": {},
   "source": [
    "## Logic Engine to parse NE"
   ]
  },
  {
   "cell_type": "code",
   "execution_count": 245,
   "metadata": {},
   "outputs": [],
   "source": [
    "# If no second loaction, ask for start\n",
    "# If no second date, assume one way\n",
    "# If no money, assume cheapest\n",
    "# If no dates, ask for dates, if not look at today/oneway"
   ]
  }
 ],
 "metadata": {
  "kernelspec": {
   "display_name": "Python 3",
   "language": "python",
   "name": "python3"
  },
  "language_info": {
   "codemirror_mode": {
    "name": "ipython",
    "version": 3
   },
   "file_extension": ".py",
   "mimetype": "text/x-python",
   "name": "python",
   "nbconvert_exporter": "python",
   "pygments_lexer": "ipython3",
   "version": "3.7.6"
  }
 },
 "nbformat": 4,
 "nbformat_minor": 4
}
