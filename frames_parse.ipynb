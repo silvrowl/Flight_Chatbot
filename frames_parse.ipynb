{
 "cells": [
  {
   "cell_type": "code",
   "execution_count": 1,
   "metadata": {},
   "outputs": [],
   "source": [
    "import pandas as pd\n",
    "import numpy as np\n",
    "import pprint\n",
    "import json\n",
    "from pandas.io.json import json_normalize\n",
    "#import flat_table"
   ]
  },
  {
   "cell_type": "code",
   "execution_count": 3,
   "metadata": {
    "scrolled": true
   },
   "outputs": [
    {
     "data": {
      "text/html": [
       "<div>\n",
       "<style scoped>\n",
       "    .dataframe tbody tr th:only-of-type {\n",
       "        vertical-align: middle;\n",
       "    }\n",
       "\n",
       "    .dataframe tbody tr th {\n",
       "        vertical-align: top;\n",
       "    }\n",
       "\n",
       "    .dataframe thead th {\n",
       "        text-align: right;\n",
       "    }\n",
       "</style>\n",
       "<table border=\"1\" class=\"dataframe\">\n",
       "  <thead>\n",
       "    <tr style=\"text-align: right;\">\n",
       "      <th></th>\n",
       "      <th>user_id</th>\n",
       "      <th>turns</th>\n",
       "      <th>wizard_id</th>\n",
       "      <th>id</th>\n",
       "      <th>labels</th>\n",
       "    </tr>\n",
       "  </thead>\n",
       "  <tbody>\n",
       "    <tr>\n",
       "      <th>0</th>\n",
       "      <td>U22HTHYNP</td>\n",
       "      <td>[{'text': 'I'd like to book a trip to Atlantis...</td>\n",
       "      <td>U21DKG18C</td>\n",
       "      <td>e2c0fc6c-2134-4891-8353-ef16d8412c9a</td>\n",
       "      <td>{'userSurveyRating': 4.0, 'wizardSurveyTaskSuc...</td>\n",
       "    </tr>\n",
       "    <tr>\n",
       "      <th>1</th>\n",
       "      <td>U21E41CQP</td>\n",
       "      <td>[{'text': 'Hello, I am looking to book a vacat...</td>\n",
       "      <td>U21DMV0KA</td>\n",
       "      <td>4a3bfa39-2c22-42c8-8694-32b4e34415e9</td>\n",
       "      <td>{'userSurveyRating': 3.0, 'wizardSurveyTaskSuc...</td>\n",
       "    </tr>\n",
       "    <tr>\n",
       "      <th>2</th>\n",
       "      <td>U21RP4FCY</td>\n",
       "      <td>[{'text': 'Hello there i am looking to go on a...</td>\n",
       "      <td>U21E0179B</td>\n",
       "      <td>6e67ed28-e94c-4fab-96b6-68569a92682f</td>\n",
       "      <td>{'userSurveyRating': 2.0, 'wizardSurveyTaskSuc...</td>\n",
       "    </tr>\n",
       "    <tr>\n",
       "      <th>3</th>\n",
       "      <td>U22HTHYNP</td>\n",
       "      <td>[{'text': 'Hi I'd like to go to Caprica from B...</td>\n",
       "      <td>U21DKG18C</td>\n",
       "      <td>5ae76e50-5b48-4166-9f6d-67aaabd7bcaa</td>\n",
       "      <td>{'userSurveyRating': 5.0, 'wizardSurveyTaskSuc...</td>\n",
       "    </tr>\n",
       "    <tr>\n",
       "      <th>4</th>\n",
       "      <td>U21E41CQP</td>\n",
       "      <td>[{'text': 'Hello, I am looking to book a trip ...</td>\n",
       "      <td>U21DMV0KA</td>\n",
       "      <td>24603086-bb53-431e-a0d8-1dcc63518ba9</td>\n",
       "      <td>{'userSurveyRating': 5.0, 'wizardSurveyTaskSuc...</td>\n",
       "    </tr>\n",
       "  </tbody>\n",
       "</table>\n",
       "</div>"
      ],
      "text/plain": [
       "     user_id                                              turns  wizard_id  \\\n",
       "0  U22HTHYNP  [{'text': 'I'd like to book a trip to Atlantis...  U21DKG18C   \n",
       "1  U21E41CQP  [{'text': 'Hello, I am looking to book a vacat...  U21DMV0KA   \n",
       "2  U21RP4FCY  [{'text': 'Hello there i am looking to go on a...  U21E0179B   \n",
       "3  U22HTHYNP  [{'text': 'Hi I'd like to go to Caprica from B...  U21DKG18C   \n",
       "4  U21E41CQP  [{'text': 'Hello, I am looking to book a trip ...  U21DMV0KA   \n",
       "\n",
       "                                     id  \\\n",
       "0  e2c0fc6c-2134-4891-8353-ef16d8412c9a   \n",
       "1  4a3bfa39-2c22-42c8-8694-32b4e34415e9   \n",
       "2  6e67ed28-e94c-4fab-96b6-68569a92682f   \n",
       "3  5ae76e50-5b48-4166-9f6d-67aaabd7bcaa   \n",
       "4  24603086-bb53-431e-a0d8-1dcc63518ba9   \n",
       "\n",
       "                                              labels  \n",
       "0  {'userSurveyRating': 4.0, 'wizardSurveyTaskSuc...  \n",
       "1  {'userSurveyRating': 3.0, 'wizardSurveyTaskSuc...  \n",
       "2  {'userSurveyRating': 2.0, 'wizardSurveyTaskSuc...  \n",
       "3  {'userSurveyRating': 5.0, 'wizardSurveyTaskSuc...  \n",
       "4  {'userSurveyRating': 5.0, 'wizardSurveyTaskSuc...  "
      ]
     },
     "execution_count": 3,
     "metadata": {},
     "output_type": "execute_result"
    }
   ],
   "source": [
    "data = pd.read_json('./frames/frames.json')\n",
    "df = pd.DataFrame(data)\n",
    "df.head() "
   ]
  },
  {
   "cell_type": "code",
   "execution_count": 14,
   "metadata": {},
   "outputs": [
    {
     "data": {
      "text/plain": [
       "(1369, 5)"
      ]
     },
     "execution_count": 14,
     "metadata": {},
     "output_type": "execute_result"
    }
   ],
   "source": [
    "df.shape"
   ]
  },
  {
   "cell_type": "code",
   "execution_count": 5,
   "metadata": {},
   "outputs": [],
   "source": [
    "one_convo = df['turns'][0]"
   ]
  },
  {
   "cell_type": "code",
   "execution_count": 17,
   "metadata": {},
   "outputs": [],
   "source": [
    "import pickle\n",
    "\n",
    "convo_list = []\n",
    "\n",
    "\n",
    "for conv in np.arange(0,1369):\n",
    "    \n",
    "    one_convo = df['turns'][conv]\n",
    "\n",
    "    for t in np.arange(0,len(one_convo)):\n",
    "\n",
    "        convo_list.append(one_convo[t]['text'])\n",
    "    \n",
    "    \n",
    "#print(convo_list)\n",
    "\n",
    "with open('frames_list.pkl', 'wb') as f:\n",
    "    pickle.dump(convo_list, f)"
   ]
  }
 ],
 "metadata": {
  "kernelspec": {
   "display_name": "Python 3",
   "language": "python",
   "name": "python3"
  },
  "language_info": {
   "codemirror_mode": {
    "name": "ipython",
    "version": 3
   },
   "file_extension": ".py",
   "mimetype": "text/x-python",
   "name": "python",
   "nbconvert_exporter": "python",
   "pygments_lexer": "ipython3",
   "version": "3.7.6"
  }
 },
 "nbformat": 4,
 "nbformat_minor": 4
}
