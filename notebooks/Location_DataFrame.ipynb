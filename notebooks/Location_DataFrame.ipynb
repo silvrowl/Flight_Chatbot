{
 "cells": [
  {
   "cell_type": "code",
   "execution_count": 1,
   "metadata": {},
   "outputs": [],
   "source": [
    "import numpy as np\n",
    "import pandas as pd"
   ]
  },
  {
   "cell_type": "code",
   "execution_count": 2,
   "metadata": {},
   "outputs": [],
   "source": [
    "airports = pd.read_csv('all_airports_2.csv')\n",
    "\n",
    "for col in airports:\n",
    "    airports[col] = airports[col].str.strip()\n"
   ]
  },
  {
   "cell_type": "code",
   "execution_count": 3,
   "metadata": {
    "scrolled": true
   },
   "outputs": [
    {
     "data": {
      "text/html": [
       "<div>\n",
       "<style scoped>\n",
       "    .dataframe tbody tr th:only-of-type {\n",
       "        vertical-align: middle;\n",
       "    }\n",
       "\n",
       "    .dataframe tbody tr th {\n",
       "        vertical-align: top;\n",
       "    }\n",
       "\n",
       "    .dataframe thead th {\n",
       "        text-align: right;\n",
       "    }\n",
       "</style>\n",
       "<table border=\"1\" class=\"dataframe\">\n",
       "  <thead>\n",
       "    <tr style=\"text-align: right;\">\n",
       "      <th></th>\n",
       "      <th>City</th>\n",
       "      <th>State</th>\n",
       "      <th>Code</th>\n",
       "    </tr>\n",
       "  </thead>\n",
       "  <tbody>\n",
       "    <tr>\n",
       "      <th>0</th>\n",
       "      <td>Neuquen</td>\n",
       "      <td>Argentina</td>\n",
       "      <td>NQN</td>\n",
       "    </tr>\n",
       "    <tr>\n",
       "      <th>1</th>\n",
       "      <td>Parana</td>\n",
       "      <td>Argentina</td>\n",
       "      <td>PRA</td>\n",
       "    </tr>\n",
       "    <tr>\n",
       "      <th>2</th>\n",
       "      <td>Perito Moreno</td>\n",
       "      <td>Argentina</td>\n",
       "      <td>PMQ</td>\n",
       "    </tr>\n",
       "    <tr>\n",
       "      <th>3</th>\n",
       "      <td>Posadas</td>\n",
       "      <td>Argentina</td>\n",
       "      <td>PSS</td>\n",
       "    </tr>\n",
       "    <tr>\n",
       "      <th>4</th>\n",
       "      <td>Pres. Roque Saenz Pena</td>\n",
       "      <td>Argentina</td>\n",
       "      <td>PRQ</td>\n",
       "    </tr>\n",
       "  </tbody>\n",
       "</table>\n",
       "</div>"
      ],
      "text/plain": [
       "                     City      State Code\n",
       "0                 Neuquen  Argentina  NQN\n",
       "1                  Parana  Argentina  PRA\n",
       "2           Perito Moreno  Argentina  PMQ\n",
       "3                 Posadas  Argentina  PSS\n",
       "4  Pres. Roque Saenz Pena  Argentina  PRQ"
      ]
     },
     "execution_count": 3,
     "metadata": {},
     "output_type": "execute_result"
    }
   ],
   "source": [
    "airports.head()\n",
    "#airports.shape"
   ]
  },
  {
   "cell_type": "code",
   "execution_count": 4,
   "metadata": {},
   "outputs": [
    {
     "name": "stdout",
     "output_type": "stream",
     "text": [
      "92\n"
     ]
    },
    {
     "name": "stderr",
     "output_type": "stream",
     "text": [
      "/home/dan/Desktop/Project_07/chatbot_env/lib/python3.7/site-packages/fuzzywuzzy/fuzz.py:11: UserWarning: Using slow pure-python SequenceMatcher. Install python-Levenshtein to remove this warning\n",
      "  warnings.warn('Using slow pure-python SequenceMatcher. Install python-Levenshtein to remove this warning')\n"
     ]
    }
   ],
   "source": [
    "from fuzzywuzzy import fuzz\n",
    "Str1 = \"Tornto\"\n",
    "Str2 = \"Toronto\"\n",
    "Ratio = fuzz.ratio(Str1.lower(),Str2.lower())\n",
    "print(Ratio)"
   ]
  },
  {
   "cell_type": "code",
   "execution_count": 5,
   "metadata": {},
   "outputs": [],
   "source": [
    "#Replace all states with written states\n",
    "import csv\n",
    "\n",
    "with open('state_abbv.tsv', 'r') as f:\n",
    "    reader = csv.reader(f, delimiter='\\t')\n",
    "    decode = {r[1]: r[0] for r in reader}\n",
    "\n",
    "decode\n",
    "\n",
    "airports.replace({'State': decode},inplace=True)\n",
    "\n",
    "airports.to_csv('all_airports_clean.csv',index=False)\n"
   ]
  },
  {
   "cell_type": "code",
   "execution_count": 6,
   "metadata": {},
   "outputs": [
    {
     "name": "stdout",
     "output_type": "stream",
     "text": [
      "                              city  city_score          state  state_score  \\\n",
      "3083  Washington DC - All airports          60  WASHINGTON DC           93   \n",
      "1347        Washington DC - Dulles          70  WASHINGTON DC           93   \n",
      "820       Washington DC - National          67  WASHINGTON DC           93   \n",
      "\n",
      "     code  \n",
      "3083  WAS  \n",
      "1347  IAD  \n",
      "820   DCA  \n"
     ]
    }
   ],
   "source": [
    "### Data Cleaning\n",
    "\n",
    "user_input = 'Washington D.C.'\n",
    "\n",
    "city_list = []\n",
    "city_score = []\n",
    "state_list = []\n",
    "state_score = []\n",
    "code_list = []\n",
    "\n",
    "### Fuzzy Matching\n",
    "for t in np.arange(0,3587):\n",
    "    \n",
    "    city = airports.loc[t,'City']\n",
    "    state = airports.loc[t,'State']\n",
    "    code = airports.loc[t,'Code']\n",
    "    \n",
    "    city_list.append(city)\n",
    "    city_score.append(fuzz.ratio(str(city).lower(),user_input.lower()))\n",
    "\n",
    "    state_list.append(state)\n",
    "    state_score.append(fuzz.ratio(str(state).lower(),user_input.lower()))\n",
    "\n",
    "    code_list.append(code)\n",
    "\n",
    "data_tuples = list(zip(city_list,city_score,state_list,state_score,code_list))\n",
    "match_df = pd.DataFrame(data_tuples,columns=['city','city_score','state','state_score','code'])                       \n",
    "                       \n",
    "                       \n",
    "### Location Duplicates\n",
    "\n",
    "match_sorted = match_df.sort_values(by='city_score', ascending=False)\n",
    "state_sorted = match_df.sort_values(by='state_score', ascending=False)\n",
    "\n",
    "\n",
    "if match_sorted['city_score'].max() > 75 and match_sorted['city_score'].max() > state_sorted['state_score'].max():\n",
    "    \n",
    "    options_1 = match_sorted[match_sorted['city_score'] == match_sorted['city_score'].max()] \n",
    "    print(options_1)\n",
    "    \n",
    "else: \n",
    "    if state_sorted['state_score'].max() > 75:\n",
    "        options_2 = state_sorted[state_sorted['state_score'] == match_sorted['state_score'].max()] \n",
    "        print(options_2)\n",
    "    else:\n",
    "        print('no options found')\n",
    "        \n",
    "        \n",
    "\n",
    "### Region/Continent Matching"
   ]
  },
  {
   "cell_type": "code",
   "execution_count": null,
   "metadata": {},
   "outputs": [],
   "source": []
  }
 ],
 "metadata": {
  "kernelspec": {
   "display_name": "Python 3",
   "language": "python",
   "name": "python3"
  },
  "language_info": {
   "codemirror_mode": {
    "name": "ipython",
    "version": 3
   },
   "file_extension": ".py",
   "mimetype": "text/x-python",
   "name": "python",
   "nbconvert_exporter": "python",
   "pygments_lexer": "ipython3",
   "version": "3.7.6"
  }
 },
 "nbformat": 4,
 "nbformat_minor": 4
}
